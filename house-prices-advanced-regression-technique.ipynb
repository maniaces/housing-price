{
 "cells": [
  {
   "cell_type": "code",
   "execution_count": 1,
   "metadata": {
    "_uuid": "2160faacdc14754f0bd55b9c047fa89b33185ba0",
    "execution": {
     "iopub.execute_input": "2020-09-13T13:38:44.446336Z",
     "iopub.status.busy": "2020-09-13T13:38:44.445641Z",
     "iopub.status.idle": "2020-09-13T13:38:45.623848Z",
     "shell.execute_reply": "2020-09-13T13:38:45.624437Z"
    },
    "papermill": {
     "duration": 1.227911,
     "end_time": "2020-09-13T13:38:45.624635",
     "exception": false,
     "start_time": "2020-09-13T13:38:44.396724",
     "status": "completed"
    },
    "tags": []
   },
   "outputs": [],
   "source": [
    "# Import the necessary libraries\n",
    "import numpy as np\n",
    "import pandas as pd\n",
    "import os\n",
    "import time\n",
    "import warnings\n",
    "import os\n",
    "from six.moves import urllib\n",
    "import matplotlib\n",
    "import matplotlib.pyplot as plt\n",
    "import seaborn as sns\n",
    "warnings.filterwarnings('ignore')\n",
    "%matplotlib inline\n",
    "plt.style.use('seaborn')\n",
    "from scipy.stats import norm, skew"
   ]
  },
  {
   "cell_type": "code",
   "execution_count": 2,
   "metadata": {
    "_uuid": "28ce0310ba5fb9f3de773ca3b19568dc6cb84059",
    "execution": {
     "iopub.execute_input": "2020-09-13T13:38:45.715607Z",
     "iopub.status.busy": "2020-09-13T13:38:45.714814Z",
     "iopub.status.idle": "2020-09-13T13:38:47.067314Z",
     "shell.execute_reply": "2020-09-13T13:38:47.066547Z"
    },
    "papermill": {
     "duration": 1.399391,
     "end_time": "2020-09-13T13:38:47.067442",
     "exception": false,
     "start_time": "2020-09-13T13:38:45.668051",
     "status": "completed"
    },
    "tags": []
   },
   "outputs": [],
   "source": [
    "# Scalers\n",
    "from sklearn.preprocessing import MinMaxScaler\n",
    "from sklearn.utils import shuffle\n",
    "from sklearn.pipeline import Pipeline\n",
    "from sklearn.pipeline import FeatureUnion\n",
    "\n",
    "# Models\n",
    "\n",
    "from sklearn.linear_model import Lasso, ElasticNet\n",
    "from sklearn.metrics import mean_squared_log_error,mean_squared_error, r2_score,mean_absolute_error\n",
    "\n",
    "#regression\n",
    "from sklearn.linear_model import LinearRegression,Ridge,LassoCV,RidgeCV\n",
    "from sklearn.ensemble import RandomForestRegressor,BaggingRegressor,GradientBoostingRegressor,AdaBoostRegressor\n",
    "from sklearn.svm import SVR\n",
    "from sklearn.neighbors import KNeighborsRegressor\n",
    "\n",
    "from sklearn.model_selection import train_test_split #training and testing data split\n",
    "from sklearn import metrics #accuracy measure\n",
    "from sklearn.metrics import confusion_matrix #for confusion matrix\n",
    "from scipy.stats import reciprocal, uniform\n",
    "\n",
    "# Cross-validation\n",
    "from sklearn.model_selection import KFold #for K-fold cross validation\n",
    "from sklearn.model_selection import cross_val_score #score evaluation\n",
    "from sklearn.model_selection import cross_val_predict #prediction\n",
    "from sklearn.model_selection import cross_validate\n",
    "\n",
    "import xgboost as xgb\n",
    "from xgboost import XGBRegressor\n",
    "from lightgbm import LGBMRegressor\n",
    "\n",
    "# GridSearchCV\n",
    "from sklearn.model_selection import GridSearchCV\n",
    "from sklearn.model_selection import RandomizedSearchCV\n",
    "\n",
    "#Common data processors\n",
    "from sklearn.preprocessing import OneHotEncoder, LabelEncoder\n",
    "from sklearn import feature_selection\n",
    "from sklearn import model_selection\n",
    "from sklearn import metrics\n",
    "from sklearn.base import BaseEstimator, TransformerMixin\n",
    "from sklearn.utils import check_array\n",
    "from scipy import sparse"
   ]
  },
  {
   "cell_type": "code",
   "execution_count": 3,
   "metadata": {
    "_uuid": "28de2011c12bfff61042078c0a5289c29936aa21",
    "execution": {
     "iopub.execute_input": "2020-09-13T13:38:47.160823Z",
     "iopub.status.busy": "2020-09-13T13:38:47.160139Z",
     "iopub.status.idle": "2020-09-13T13:38:47.273327Z",
     "shell.execute_reply": "2020-09-13T13:38:47.272673Z"
    },
    "papermill": {
     "duration": 0.163668,
     "end_time": "2020-09-13T13:38:47.273462",
     "exception": false,
     "start_time": "2020-09-13T13:38:47.109794",
     "status": "completed"
    },
    "tags": []
   },
   "outputs": [],
   "source": [
    "train = pd.read_csv('../input/house-prices-advanced-regression-techniques/train.csv')\n",
    "test = pd.read_csv('../input/house-prices-advanced-regression-techniques/test.csv')\n",
    "sample = pd.read_csv('../input/house-prices-advanced-regression-techniques/sample_submission.csv')"
   ]
  },
  {
   "cell_type": "code",
   "execution_count": 4,
   "metadata": {
    "_uuid": "511f2a090bffad725bfca6ee35643f151595c57a",
    "execution": {
     "iopub.execute_input": "2020-09-13T13:38:47.367576Z",
     "iopub.status.busy": "2020-09-13T13:38:47.366872Z",
     "iopub.status.idle": "2020-09-13T13:38:47.370052Z",
     "shell.execute_reply": "2020-09-13T13:38:47.370569Z"
    },
    "papermill": {
     "duration": 0.053562,
     "end_time": "2020-09-13T13:38:47.370718",
     "exception": false,
     "start_time": "2020-09-13T13:38:47.317156",
     "status": "completed"
    },
    "tags": []
   },
   "outputs": [
    {
     "data": {
      "text/plain": [
       "(1460, 81)"
      ]
     },
     "execution_count": 4,
     "metadata": {},
     "output_type": "execute_result"
    }
   ],
   "source": [
    "train.shape"
   ]
  },
  {
   "cell_type": "code",
   "execution_count": 5,
   "metadata": {
    "_uuid": "3494611c1ed8cecfa5867f3f1bac24d133617d6a",
    "execution": {
     "iopub.execute_input": "2020-09-13T13:38:47.463335Z",
     "iopub.status.busy": "2020-09-13T13:38:47.462606Z",
     "iopub.status.idle": "2020-09-13T13:38:47.467101Z",
     "shell.execute_reply": "2020-09-13T13:38:47.467621Z"
    },
    "papermill": {
     "duration": 0.051619,
     "end_time": "2020-09-13T13:38:47.467762",
     "exception": false,
     "start_time": "2020-09-13T13:38:47.416143",
     "status": "completed"
    },
    "tags": []
   },
   "outputs": [
    {
     "data": {
      "text/plain": [
       "(1459, 80)"
      ]
     },
     "execution_count": 5,
     "metadata": {},
     "output_type": "execute_result"
    }
   ],
   "source": [
    "test.shape"
   ]
  },
  {
   "cell_type": "code",
   "execution_count": 6,
   "metadata": {
    "_uuid": "f64c08e2732958971fd4a5e0cd8f7303577d729b",
    "execution": {
     "iopub.execute_input": "2020-09-13T13:38:47.571117Z",
     "iopub.status.busy": "2020-09-13T13:38:47.570011Z",
     "iopub.status.idle": "2020-09-13T13:38:47.576705Z",
     "shell.execute_reply": "2020-09-13T13:38:47.577221Z"
    },
    "papermill": {
     "duration": 0.065904,
     "end_time": "2020-09-13T13:38:47.577405",
     "exception": false,
     "start_time": "2020-09-13T13:38:47.511501",
     "status": "completed"
    },
    "tags": []
   },
   "outputs": [],
   "source": [
    "#Drop the id column\n",
    "\n",
    "train.drop(\"Id\", axis = 1, inplace = True)\n",
    "test.drop(\"Id\", axis = 1, inplace = True)"
   ]
  },
  {
   "cell_type": "code",
   "execution_count": 7,
   "metadata": {
    "_uuid": "38424661b7e9c15fe2094d79dc1ecab122c3eeb7",
    "execution": {
     "iopub.execute_input": "2020-09-13T13:38:47.671842Z",
     "iopub.status.busy": "2020-09-13T13:38:47.671077Z",
     "iopub.status.idle": "2020-09-13T13:38:50.141524Z",
     "shell.execute_reply": "2020-09-13T13:38:50.142200Z"
    },
    "papermill": {
     "duration": 2.520775,
     "end_time": "2020-09-13T13:38:50.142385",
     "exception": false,
     "start_time": "2020-09-13T13:38:47.621610",
     "status": "completed"
    },
    "tags": []
   },
   "outputs": [
    {
     "data": {
      "text/plain": [
       "<matplotlib.axes._subplots.AxesSubplot at 0x7f45aa6c7990>"
      ]
     },
     "execution_count": 7,
     "metadata": {},
     "output_type": "execute_result"
    },
    {
     "data": {
      "image/png": "[encoded data removed]",
      "text/plain": [
       "<Figure size 1080x576 with 1 Axes>"
      ]
     },
     "metadata": {},
     "output_type": "display_data"
    }
   ],
   "source": [
    "# It seems that the price of recent-built houses are higher\n",
    "\n",
    "plt.figure(figsize=(15,8))\n",
    "sns.boxplot(train.YearBuilt, train.SalePrice)\n",
    "\n",
    "# From the graph we can surely see plenty of outliers."
   ]
  },
  {
   "cell_type": "code",
   "execution_count": 8,
   "metadata": {
    "_uuid": "b9fa23cf0520f2dd6e5f041bd36355dabdb05000",
    "execution": {
     "iopub.execute_input": "2020-09-13T13:38:50.239004Z",
     "iopub.status.busy": "2020-09-13T13:38:50.238005Z",
     "iopub.status.idle": "2020-09-13T13:38:50.430503Z",
     "shell.execute_reply": "2020-09-13T13:38:50.429956Z"
    },
    "papermill": {
     "duration": 0.241618,
     "end_time": "2020-09-13T13:38:50.430624",
     "exception": false,
     "start_time": "2020-09-13T13:38:50.189006",
     "status": "completed"
    },
    "tags": []
   },
   "outputs": [
    {
     "data": {
      "text/plain": [
       "(0.0, 800000.0)"
      ]
     },
     "execution_count": 8,
     "metadata": {},
     "output_type": "execute_result"
    },
    {
     "data": {
      "image/png": "[encoded data removed]",
      "text/plain": [
       "<Figure size 864x432 with 1 Axes>"
      ]
     },
     "metadata": {},
     "output_type": "display_data"
    }
   ],
   "source": [
    "plt.figure(figsize=(12,6))\n",
    "plt.scatter(x=train.GrLivArea, y=train.SalePrice)\n",
    "plt.xlabel(\"GrLivArea\", fontsize=13)\n",
    "plt.ylabel(\"SalePrice\", fontsize=13)\n",
    "plt.ylim(0,800000)"
   ]
  },
  {
   "cell_type": "code",
   "execution_count": 9,
   "metadata": {
    "_uuid": "ea5ea6fc24945d7d2637a34afcd4e7d711750f53",
    "execution": {
     "iopub.execute_input": "2020-09-13T13:38:50.532627Z",
     "iopub.status.busy": "2020-09-13T13:38:50.531917Z",
     "iopub.status.idle": "2020-09-13T13:38:50.697271Z",
     "shell.execute_reply": "2020-09-13T13:38:50.696697Z"
    },
    "papermill": {
     "duration": 0.218982,
     "end_time": "2020-09-13T13:38:50.697398",
     "exception": false,
     "start_time": "2020-09-13T13:38:50.478416",
     "status": "completed"
    },
    "tags": []
   },
   "outputs": [
    {
     "data": {
      "text/plain": [
       "(0.0, 800000.0)"
      ]
     },
     "execution_count": 9,
     "metadata": {},
     "output_type": "execute_result"
    },
    {
     "data": {
      "image/png": "[encoded data removed]",
      "text/plain": [
       "<Figure size 864x432 with 1 Axes>"
      ]
     },
     "metadata": {},
     "output_type": "display_data"
    }
   ],
   "source": [
    "plt.figure(figsize=(12,6))\n",
    "plt.scatter(x=train.OverallQual, y=train.SalePrice)\n",
    "plt.xlabel(\"GrLivArea\", fontsize=13)\n",
    "plt.ylabel(\"SalePrice\", fontsize=13)\n",
    "plt.ylim(0,800000)"
   ]
  },
  {
   "cell_type": "markdown",
   "metadata": {
    "_uuid": "0a0d54b997522206d78aeca0162f390e6c77da24",
    "papermill": {
     "duration": 0.048988,
     "end_time": "2020-09-13T13:38:50.795488",
     "exception": false,
     "start_time": "2020-09-13T13:38:50.746500",
     "status": "completed"
    },
    "tags": []
   },
   "source": [
    "As Suggested by many participants in Kaggle that the outliers shall be removed"
   ]
  },
  {
   "cell_type": "code",
   "execution_count": 10,
   "metadata": {
    "_uuid": "69fbc9afa32a40f56493afe1c381778e36342d1b",
    "execution": {
     "iopub.execute_input": "2020-09-13T13:38:50.900996Z",
     "iopub.status.busy": "2020-09-13T13:38:50.900366Z",
     "iopub.status.idle": "2020-09-13T13:38:50.903704Z",
     "shell.execute_reply": "2020-09-13T13:38:50.904200Z"
    },
    "papermill": {
     "duration": 0.059958,
     "end_time": "2020-09-13T13:38:50.904361",
     "exception": false,
     "start_time": "2020-09-13T13:38:50.844403",
     "status": "completed"
    },
    "tags": []
   },
   "outputs": [],
   "source": [
    "train.drop(train[(train['GrLivArea']>=4500) & (train['SalePrice']<300000)].index, inplace=True)\n",
    "train.reset_index(drop=True, inplace=True)"
   ]
  },
  {
   "cell_type": "code",
   "execution_count": 11,
   "metadata": {
    "_uuid": "f5f12253d68665d4aa9977f762c8eb0f5eb8259b",
    "execution": {
     "iopub.execute_input": "2020-09-13T13:38:51.007328Z",
     "iopub.status.busy": "2020-09-13T13:38:51.006665Z",
     "iopub.status.idle": "2020-09-13T13:38:51.175835Z",
     "shell.execute_reply": "2020-09-13T13:38:51.176422Z"
    },
    "papermill": {
     "duration": 0.222716,
     "end_time": "2020-09-13T13:38:51.176570",
     "exception": false,
     "start_time": "2020-09-13T13:38:50.953854",
     "status": "completed"
    },
    "tags": []
   },
   "outputs": [
    {
     "data": {
      "text/plain": [
       "(0.0, 800000.0)"
      ]
     },
     "execution_count": 11,
     "metadata": {},
     "output_type": "execute_result"
    },
    {
     "data": {
      "image/png": "[encoded data removed]",
      "text/plain": [
       "<Figure size 864x432 with 1 Axes>"
      ]
     },
     "metadata": {},
     "output_type": "display_data"
    }
   ],
   "source": [
    "# Graphs after removing outliers\n",
    "plt.figure(figsize=(12,6))\n",
    "plt.scatter(x=train.GrLivArea, y=train.SalePrice)\n",
    "plt.xlabel(\"GrLivArea\", fontsize=13)\n",
    "plt.ylabel(\"SalePrice\", fontsize=13)\n",
    "plt.ylim(0,800000)"
   ]
  },
  {
   "cell_type": "code",
   "execution_count": 12,
   "metadata": {
    "_uuid": "a7e4fcbdaa87837b75f224ca38b512d738cf80e4",
    "execution": {
     "iopub.execute_input": "2020-09-13T13:38:51.284953Z",
     "iopub.status.busy": "2020-09-13T13:38:51.283911Z",
     "iopub.status.idle": "2020-09-13T13:38:51.288376Z",
     "shell.execute_reply": "2020-09-13T13:38:51.287707Z"
    },
    "papermill": {
     "duration": 0.060576,
     "end_time": "2020-09-13T13:38:51.288489",
     "exception": false,
     "start_time": "2020-09-13T13:38:51.227913",
     "status": "completed"
    },
    "tags": []
   },
   "outputs": [
    {
     "data": {
      "text/plain": [
       "(1458, 80)"
      ]
     },
     "execution_count": 12,
     "metadata": {},
     "output_type": "execute_result"
    }
   ],
   "source": [
    "train.shape"
   ]
  },
  {
   "cell_type": "code",
   "execution_count": 13,
   "metadata": {
    "_uuid": "437420d64c6ea6260399002fd3e47c4bae1d9e2a",
    "execution": {
     "iopub.execute_input": "2020-09-13T13:38:51.395205Z",
     "iopub.status.busy": "2020-09-13T13:38:51.394203Z",
     "iopub.status.idle": "2020-09-13T13:38:51.421717Z",
     "shell.execute_reply": "2020-09-13T13:38:51.422384Z"
    },
    "papermill": {
     "duration": 0.082786,
     "end_time": "2020-09-13T13:38:51.422552",
     "exception": false,
     "start_time": "2020-09-13T13:38:51.339766",
     "status": "completed"
    },
    "tags": []
   },
   "outputs": [
    {
     "name": "stdout",
     "output_type": "stream",
     "text": [
      "<class 'pandas.core.frame.DataFrame'>\n",
      "RangeIndex: 1458 entries, 0 to 1457\n",
      "Data columns (total 80 columns):\n",
      " #   Column         Non-Null Count  Dtype  \n",
      "---  ------         --------------  -----  \n",
      " 0   MSSubClass     1458 non-null   int64  \n",
      " 1   MSZoning       1458 non-null   object \n",
      " 2   LotFrontage    1199 non-null   float64\n",
      " 3   LotArea        1458 non-null   int64  \n",
      " 4   Street         1458 non-null   object \n",
      " 5   Alley          91 non-null     object \n",
      " 6   LotShape       1458 non-null   object \n",
      " 7   LandContour    1458 non-null   object \n",
      " 8   Utilities      1458 non-null   object \n",
      " 9   LotConfig      1458 non-null   object \n",
      " 10  LandSlope      1458 non-null   object \n",
      " 11  Neighborhood   1458 non-null   object \n",
      " 12  Condition1     1458 non-null   object \n",
      " 13  Condition2     1458 non-null   object \n",
      " 14  BldgType       1458 non-null   object \n",
      " 15  HouseStyle     1458 non-null   object \n",
      " 16  OverallQual    1458 non-null   int64  \n",
      " 17  OverallCond    1458 non-null   int64  \n",
      " 18  YearBuilt      1458 non-null   int64  \n",
      " 19  YearRemodAdd   1458 non-null   int64  \n",
      " 20  RoofStyle      1458 non-null   object \n",
      " 21  RoofMatl       1458 non-null   object \n",
      " 22  Exterior1st    1458 non-null   object \n",
      " 23  Exterior2nd    1458 non-null   object \n",
      " 24  MasVnrType     1450 non-null   object \n",
      " 25  MasVnrArea     1450 non-null   float64\n",
      " 26  ExterQual      1458 non-null   object \n",
      " 27  ExterCond      1458 non-null   object \n",
      " 28  Foundation     1458 non-null   object \n",
      " 29  BsmtQual       1421 non-null   object \n",
      " 30  BsmtCond       1421 non-null   object \n",
      " 31  BsmtExposure   1420 non-null   object \n",
      " 32  BsmtFinType1   1421 non-null   object \n",
      " 33  BsmtFinSF1     1458 non-null   int64  \n",
      " 34  BsmtFinType2   1420 non-null   object \n",
      " 35  BsmtFinSF2     1458 non-null   int64  \n",
      " 36  BsmtUnfSF      1458 non-null   int64  \n",
      " 37  TotalBsmtSF    1458 non-null   int64  \n",
      " 38  Heating        1458 non-null   object \n",
      " 39  HeatingQC      1458 non-null   object \n",
      " 40  CentralAir     1458 non-null   object \n",
      " 41  Electrical     1457 non-null   object \n",
      " 42  1stFlrSF       1458 non-null   int64  \n",
      " 43  2ndFlrSF       1458 non-null   int64  \n",
      " 44  LowQualFinSF   1458 non-null   int64  \n",
      " 45  GrLivArea      1458 non-null   int64  \n",
      " 46  BsmtFullBath   1458 non-null   int64  \n",
      " 47  BsmtHalfBath   1458 non-null   int64  \n",
      " 48  FullBath       1458 non-null   int64  \n",
      " 49  HalfBath       1458 non-null   int64  \n",
      " 50  BedroomAbvGr   1458 non-null   int64  \n",
      " 51  KitchenAbvGr   1458 non-null   int64  \n",
      " 52  KitchenQual    1458 non-null   object \n",
      " 53  TotRmsAbvGrd   1458 non-null   int64  \n",
      " 54  Functional     1458 non-null   object \n",
      " 55  Fireplaces     1458 non-null   int64  \n",
      " 56  FireplaceQu    768 non-null    object \n",
      " 57  GarageType     1377 non-null   object \n",
      " 58  GarageYrBlt    1377 non-null   float64\n",
      " 59  GarageFinish   1377 non-null   object \n",
      " 60  GarageCars     1458 non-null   int64  \n",
      " 61  GarageArea     1458 non-null   int64  \n",
      " 62  GarageQual     1377 non-null   object \n",
      " 63  GarageCond     1377 non-null   object \n",
      " 64  PavedDrive     1458 non-null   object \n",
      " 65  WoodDeckSF     1458 non-null   int64  \n",
      " 66  OpenPorchSF    1458 non-null   int64  \n",
      " 67  EnclosedPorch  1458 non-null   int64  \n",
      " 68  3SsnPorch      1458 non-null   int64  \n",
      " 69  ScreenPorch    1458 non-null   int64  \n",
      " 70  PoolArea       1458 non-null   int64  \n",
      " 71  PoolQC         6 non-null      object \n",
      " 72  Fence          281 non-null    object \n",
      " 73  MiscFeature    54 non-null     object \n",
      " 74  MiscVal        1458 non-null   int64  \n",
      " 75  MoSold         1458 non-null   int64  \n",
      " 76  YrSold         1458 non-null   int64  \n",
      " 77  SaleType       1458 non-null   object \n",
      " 78  SaleCondition  1458 non-null   object \n",
      " 79  SalePrice      1458 non-null   int64  \n",
      "dtypes: float64(3), int64(34), object(43)\n",
      "memory usage: 911.4+ KB\n"
     ]
    }
   ],
   "source": [
    "train.info()"
   ]
  },
  {
   "cell_type": "code",
   "execution_count": 14,
   "metadata": {
    "_uuid": "47ec6969797926990b9a0d4531a7528486563130",
    "execution": {
     "iopub.execute_input": "2020-09-13T13:38:51.531945Z",
     "iopub.status.busy": "2020-09-13T13:38:51.531324Z",
     "iopub.status.idle": "2020-09-13T13:38:51.634640Z",
     "shell.execute_reply": "2020-09-13T13:38:51.634059Z"
    },
    "papermill": {
     "duration": 0.159155,
     "end_time": "2020-09-13T13:38:51.634774",
     "exception": false,
     "start_time": "2020-09-13T13:38:51.475619",
     "status": "completed"
    },
    "tags": []
   },
   "outputs": [
    {
     "data": {
      "text/html": [
       "<div>\n",
       "<style scoped>\n",
       "    .dataframe tbody tr th:only-of-type {\n",
       "        vertical-align: middle;\n",
       "    }\n",
       "\n",
       "    .dataframe tbody tr th {\n",
       "        vertical-align: top;\n",
       "    }\n",
       "\n",
       "    .dataframe thead th {\n",
       "        text-align: right;\n",
       "    }\n",
       "</style>\n",
       "<table border=\"1\" class=\"dataframe\">\n",
       "  <thead>\n",
       "    <tr style=\"text-align: right;\">\n",
       "      <th></th>\n",
       "      <th>MSSubClass</th>\n",
       "      <th>LotFrontage</th>\n",
       "      <th>LotArea</th>\n",
       "      <th>OverallQual</th>\n",
       "      <th>OverallCond</th>\n",
       "      <th>YearBuilt</th>\n",
       "      <th>YearRemodAdd</th>\n",
       "      <th>MasVnrArea</th>\n",
       "      <th>BsmtFinSF1</th>\n",
       "      <th>BsmtFinSF2</th>\n",
       "      <th>...</th>\n",
       "      <th>WoodDeckSF</th>\n",
       "      <th>OpenPorchSF</th>\n",
       "      <th>EnclosedPorch</th>\n",
       "      <th>3SsnPorch</th>\n",
       "      <th>ScreenPorch</th>\n",
       "      <th>PoolArea</th>\n",
       "      <th>MiscVal</th>\n",
       "      <th>MoSold</th>\n",
       "      <th>YrSold</th>\n",
       "      <th>SalePrice</th>\n",
       "    </tr>\n",
       "  </thead>\n",
       "  <tbody>\n",
       "    <tr>\n",
       "      <th>count</th>\n",
       "      <td>1458.000000</td>\n",
       "      <td>1199.000000</td>\n",
       "      <td>1458.000000</td>\n",
       "      <td>1458.000000</td>\n",
       "      <td>1458.000000</td>\n",
       "      <td>1458.000000</td>\n",
       "      <td>1458.000000</td>\n",
       "      <td>1450.000000</td>\n",
       "      <td>1458.000000</td>\n",
       "      <td>1458.000000</td>\n",
       "      <td>...</td>\n",
       "      <td>1458.000000</td>\n",
       "      <td>1458.000000</td>\n",
       "      <td>1458.000000</td>\n",
       "      <td>1458.000000</td>\n",
       "      <td>1458.000000</td>\n",
       "      <td>1458.000000</td>\n",
       "      <td>1458.000000</td>\n",
       "      <td>1458.000000</td>\n",
       "      <td>1458.000000</td>\n",
       "      <td>1458.000000</td>\n",
       "    </tr>\n",
       "    <tr>\n",
       "      <th>mean</th>\n",
       "      <td>56.893004</td>\n",
       "      <td>69.797331</td>\n",
       "      <td>10459.936900</td>\n",
       "      <td>6.093964</td>\n",
       "      <td>5.576132</td>\n",
       "      <td>1971.218107</td>\n",
       "      <td>1984.834019</td>\n",
       "      <td>102.753793</td>\n",
       "      <td>438.827160</td>\n",
       "      <td>46.613169</td>\n",
       "      <td>...</td>\n",
       "      <td>94.084362</td>\n",
       "      <td>46.245542</td>\n",
       "      <td>21.984225</td>\n",
       "      <td>3.414266</td>\n",
       "      <td>15.081619</td>\n",
       "      <td>2.433471</td>\n",
       "      <td>43.548697</td>\n",
       "      <td>6.323045</td>\n",
       "      <td>2007.816187</td>\n",
       "      <td>180932.919067</td>\n",
       "    </tr>\n",
       "    <tr>\n",
       "      <th>std</th>\n",
       "      <td>42.329437</td>\n",
       "      <td>23.203458</td>\n",
       "      <td>9859.198156</td>\n",
       "      <td>1.376369</td>\n",
       "      <td>1.113359</td>\n",
       "      <td>30.193754</td>\n",
       "      <td>20.641760</td>\n",
       "      <td>179.442156</td>\n",
       "      <td>432.969094</td>\n",
       "      <td>161.420729</td>\n",
       "      <td>...</td>\n",
       "      <td>125.350021</td>\n",
       "      <td>65.312932</td>\n",
       "      <td>61.155666</td>\n",
       "      <td>29.337173</td>\n",
       "      <td>55.792877</td>\n",
       "      <td>38.209947</td>\n",
       "      <td>496.460799</td>\n",
       "      <td>2.700167</td>\n",
       "      <td>1.328826</td>\n",
       "      <td>79495.055285</td>\n",
       "    </tr>\n",
       "    <tr>\n",
       "      <th>min</th>\n",
       "      <td>20.000000</td>\n",
       "      <td>21.000000</td>\n",
       "      <td>1300.000000</td>\n",
       "      <td>1.000000</td>\n",
       "      <td>1.000000</td>\n",
       "      <td>1872.000000</td>\n",
       "      <td>1950.000000</td>\n",
       "      <td>0.000000</td>\n",
       "      <td>0.000000</td>\n",
       "      <td>0.000000</td>\n",
       "      <td>...</td>\n",
       "      <td>0.000000</td>\n",
       "      <td>0.000000</td>\n",
       "      <td>0.000000</td>\n",
       "      <td>0.000000</td>\n",
       "      <td>0.000000</td>\n",
       "      <td>0.000000</td>\n",
       "      <td>0.000000</td>\n",
       "      <td>1.000000</td>\n",
       "      <td>2006.000000</td>\n",
       "      <td>34900.000000</td>\n",
       "    </tr>\n",
       "    <tr>\n",
       "      <th>25%</th>\n",
       "      <td>20.000000</td>\n",
       "      <td>59.000000</td>\n",
       "      <td>7544.500000</td>\n",
       "      <td>5.000000</td>\n",
       "      <td>5.000000</td>\n",
       "      <td>1954.000000</td>\n",
       "      <td>1967.000000</td>\n",
       "      <td>0.000000</td>\n",
       "      <td>0.000000</td>\n",
       "      <td>0.000000</td>\n",
       "      <td>...</td>\n",
       "      <td>0.000000</td>\n",
       "      <td>0.000000</td>\n",
       "      <td>0.000000</td>\n",
       "      <td>0.000000</td>\n",
       "      <td>0.000000</td>\n",
       "      <td>0.000000</td>\n",
       "      <td>0.000000</td>\n",
       "      <td>5.000000</td>\n",
       "      <td>2007.000000</td>\n",
       "      <td>129925.000000</td>\n",
       "    </tr>\n",
       "    <tr>\n",
       "      <th>50%</th>\n",
       "      <td>50.000000</td>\n",
       "      <td>69.000000</td>\n",
       "      <td>9475.000000</td>\n",
       "      <td>6.000000</td>\n",
       "      <td>5.000000</td>\n",
       "      <td>1972.500000</td>\n",
       "      <td>1994.000000</td>\n",
       "      <td>0.000000</td>\n",
       "      <td>382.000000</td>\n",
       "      <td>0.000000</td>\n",
       "      <td>...</td>\n",
       "      <td>0.000000</td>\n",
       "      <td>24.500000</td>\n",
       "      <td>0.000000</td>\n",
       "      <td>0.000000</td>\n",
       "      <td>0.000000</td>\n",
       "      <td>0.000000</td>\n",
       "      <td>0.000000</td>\n",
       "      <td>6.000000</td>\n",
       "      <td>2008.000000</td>\n",
       "      <td>163000.000000</td>\n",
       "    </tr>\n",
       "    <tr>\n",
       "      <th>75%</th>\n",
       "      <td>70.000000</td>\n",
       "      <td>80.000000</td>\n",
       "      <td>11600.000000</td>\n",
       "      <td>7.000000</td>\n",
       "      <td>6.000000</td>\n",
       "      <td>2000.000000</td>\n",
       "      <td>2004.000000</td>\n",
       "      <td>164.750000</td>\n",
       "      <td>711.000000</td>\n",
       "      <td>0.000000</td>\n",
       "      <td>...</td>\n",
       "      <td>168.000000</td>\n",
       "      <td>68.000000</td>\n",
       "      <td>0.000000</td>\n",
       "      <td>0.000000</td>\n",
       "      <td>0.000000</td>\n",
       "      <td>0.000000</td>\n",
       "      <td>0.000000</td>\n",
       "      <td>8.000000</td>\n",
       "      <td>2009.000000</td>\n",
       "      <td>214000.000000</td>\n",
       "    </tr>\n",
       "    <tr>\n",
       "      <th>max</th>\n",
       "      <td>190.000000</td>\n",
       "      <td>313.000000</td>\n",
       "      <td>215245.000000</td>\n",
       "      <td>10.000000</td>\n",
       "      <td>9.000000</td>\n",
       "      <td>2010.000000</td>\n",
       "      <td>2010.000000</td>\n",
       "      <td>1600.000000</td>\n",
       "      <td>2188.000000</td>\n",
       "      <td>1474.000000</td>\n",
       "      <td>...</td>\n",
       "      <td>857.000000</td>\n",
       "      <td>547.000000</td>\n",
       "      <td>552.000000</td>\n",
       "      <td>508.000000</td>\n",
       "      <td>480.000000</td>\n",
       "      <td>738.000000</td>\n",
       "      <td>15500.000000</td>\n",
       "      <td>12.000000</td>\n",
       "      <td>2010.000000</td>\n",
       "      <td>755000.000000</td>\n",
       "    </tr>\n",
       "  </tbody>\n",
       "</table>\n",
       "<p>8 rows × 37 columns</p>\n",
       "</div>"
      ],
      "text/plain": [
       "        MSSubClass  LotFrontage        LotArea  OverallQual  OverallCond  \\\n",
       "count  1458.000000  1199.000000    1458.000000  1458.000000  1458.000000   \n",
       "mean     56.893004    69.797331   10459.936900     6.093964     5.576132   \n",
       "std      42.329437    23.203458    9859.198156     1.376369     1.113359   \n",
       "min      20.000000    21.000000    1300.000000     1.000000     1.000000   \n",
       "25%      20.000000    59.000000    7544.500000     5.000000     5.000000   \n",
       "50%      50.000000    69.000000    9475.000000     6.000000     5.000000   \n",
       "75%      70.000000    80.000000   11600.000000     7.000000     6.000000   \n",
       "max     190.000000   313.000000  215245.000000    10.000000     9.000000   \n",
       "\n",
       "         YearBuilt  YearRemodAdd   MasVnrArea   BsmtFinSF1   BsmtFinSF2  ...  \\\n",
       "count  1458.000000   1458.000000  1450.000000  1458.000000  1458.000000  ...   \n",
       "mean   1971.218107   1984.834019   102.753793   438.827160    46.613169  ...   \n",
       "std      30.193754     20.641760   179.442156   432.969094   161.420729  ...   \n",
       "min    1872.000000   1950.000000     0.000000     0.000000     0.000000  ...   \n",
       "25%    1954.000000   1967.000000     0.000000     0.000000     0.000000  ...   \n",
       "50%    1972.500000   1994.000000     0.000000   382.000000     0.000000  ...   \n",
       "75%    2000.000000   2004.000000   164.750000   711.000000     0.000000  ...   \n",
       "max    2010.000000   2010.000000  1600.000000  2188.000000  1474.000000  ...   \n",
       "\n",
       "        WoodDeckSF  OpenPorchSF  EnclosedPorch    3SsnPorch  ScreenPorch  \\\n",
       "count  1458.000000  1458.000000    1458.000000  1458.000000  1458.000000   \n",
       "mean     94.084362    46.245542      21.984225     3.414266    15.081619   \n",
       "std     125.350021    65.312932      61.155666    29.337173    55.792877   \n",
       "min       0.000000     0.000000       0.000000     0.000000     0.000000   \n",
       "25%       0.000000     0.000000       0.000000     0.000000     0.000000   \n",
       "50%       0.000000    24.500000       0.000000     0.000000     0.000000   \n",
       "75%     168.000000    68.000000       0.000000     0.000000     0.000000   \n",
       "max     857.000000   547.000000     552.000000   508.000000   480.000000   \n",
       "\n",
       "          PoolArea       MiscVal       MoSold       YrSold      SalePrice  \n",
       "count  1458.000000   1458.000000  1458.000000  1458.000000    1458.000000  \n",
       "mean      2.433471     43.548697     6.323045  2007.816187  180932.919067  \n",
       "std      38.209947    496.460799     2.700167     1.328826   79495.055285  \n",
       "min       0.000000      0.000000     1.000000  2006.000000   34900.000000  \n",
       "25%       0.000000      0.000000     5.000000  2007.000000  129925.000000  \n",
       "50%       0.000000      0.000000     6.000000  2008.000000  163000.000000  \n",
       "75%       0.000000      0.000000     8.000000  2009.000000  214000.000000  \n",
       "max     738.000000  15500.000000    12.000000  2010.000000  755000.000000  \n",
       "\n",
       "[8 rows x 37 columns]"
      ]
     },
     "execution_count": 14,
     "metadata": {},
     "output_type": "execute_result"
    }
   ],
   "source": [
    "train.describe()"
   ]
  },
  {
   "cell_type": "code",
   "execution_count": 15,
   "metadata": {
    "_uuid": "3faba1e18825e860419fdd9722f309c22a34ca8a",
    "execution": {
     "iopub.execute_input": "2020-09-13T13:38:51.755142Z",
     "iopub.status.busy": "2020-09-13T13:38:51.754019Z",
     "iopub.status.idle": "2020-09-13T13:38:52.005768Z",
     "shell.execute_reply": "2020-09-13T13:38:52.005165Z"
    },
    "papermill": {
     "duration": 0.317005,
     "end_time": "2020-09-13T13:38:52.005897",
     "exception": false,
     "start_time": "2020-09-13T13:38:51.688892",
     "status": "completed"
    },
    "tags": []
   },
   "outputs": [
    {
     "data": {
      "text/plain": [
       "<matplotlib.axes._subplots.AxesSubplot at 0x7f4581de0850>"
      ]
     },
     "execution_count": 15,
     "metadata": {},
     "output_type": "execute_result"
    },
    {
     "data": {
      "image/png": "[encoded data removed]",
      "text/plain": [
       "<Figure size 576x396 with 1 Axes>"
      ]
     },
     "metadata": {},
     "output_type": "display_data"
    }
   ],
   "source": [
    "# Checking if the log is required for the housing sales price\n",
    "plt.subplot(1, 2, 1)\n",
    "sns.distplot(train.SalePrice, kde=True, fit = norm)"
   ]
  },
  {
   "cell_type": "code",
   "execution_count": 16,
   "metadata": {
    "_uuid": "a773ebc0ca31fca41340ba85775a67d54532b919",
    "execution": {
     "iopub.execute_input": "2020-09-13T13:38:52.131239Z",
     "iopub.status.busy": "2020-09-13T13:38:52.130011Z",
     "iopub.status.idle": "2020-09-13T13:38:52.336983Z",
     "shell.execute_reply": "2020-09-13T13:38:52.336447Z"
    },
    "papermill": {
     "duration": 0.273771,
     "end_time": "2020-09-13T13:38:52.337091",
     "exception": false,
     "start_time": "2020-09-13T13:38:52.063320",
     "status": "completed"
    },
    "tags": []
   },
   "outputs": [
    {
     "data": {
      "text/plain": [
       "Text(0.5, 0, 'Log SalePrice')"
      ]
     },
     "execution_count": 16,
     "metadata": {},
     "output_type": "execute_result"
    },
    {
     "data": {
      "image/png": "[encoded data removed]",
      "text/plain": [
       "<Figure size 576x396 with 1 Axes>"
      ]
     },
     "metadata": {},
     "output_type": "display_data"
    }
   ],
   "source": [
    "#Plot is right skewed, so we need to normalize this distribution\n",
    "\n",
    "plt.subplot(1, 2, 2)\n",
    "sns.distplot(np.log1p(train.SalePrice + 1), kde=True, fit = norm)\n",
    "plt.xlabel('Log SalePrice')"
   ]
  },
  {
   "cell_type": "code",
   "execution_count": 17,
   "metadata": {
    "_uuid": "70e50ca2923d4f5757dd50001db9e8322cf8908d",
    "execution": {
     "iopub.execute_input": "2020-09-13T13:38:52.455817Z",
     "iopub.status.busy": "2020-09-13T13:38:52.454141Z",
     "iopub.status.idle": "2020-09-13T13:38:52.459505Z",
     "shell.execute_reply": "2020-09-13T13:38:52.458857Z"
    },
    "papermill": {
     "duration": 0.066433,
     "end_time": "2020-09-13T13:38:52.459617",
     "exception": false,
     "start_time": "2020-09-13T13:38:52.393184",
     "status": "completed"
    },
    "tags": []
   },
   "outputs": [],
   "source": [
    "#Applying log to house price\n",
    "train.SalePrice = np.log1p(train.SalePrice)"
   ]
  },
  {
   "cell_type": "code",
   "execution_count": 18,
   "metadata": {
    "_uuid": "31eada80efd300dab1af1a08dd68267c41f09953",
    "execution": {
     "iopub.execute_input": "2020-09-13T13:38:52.581727Z",
     "iopub.status.busy": "2020-09-13T13:38:52.580838Z",
     "iopub.status.idle": "2020-09-13T13:38:52.586587Z",
     "shell.execute_reply": "2020-09-13T13:38:52.587436Z"
    },
    "papermill": {
     "duration": 0.071414,
     "end_time": "2020-09-13T13:38:52.587663",
     "exception": false,
     "start_time": "2020-09-13T13:38:52.516249",
     "status": "completed"
    },
    "tags": []
   },
   "outputs": [],
   "source": [
    "train_y = train.SalePrice.reset_index(drop=True)\n",
    "train_x = train.drop(['SalePrice'], axis=1)\n",
    "test_x = test"
   ]
  },
  {
   "cell_type": "code",
   "execution_count": 19,
   "metadata": {
    "_uuid": "f49ada491a602161d4181269da0f7990907201a3",
    "execution": {
     "iopub.execute_input": "2020-09-13T13:38:52.741767Z",
     "iopub.status.busy": "2020-09-13T13:38:52.740950Z",
     "iopub.status.idle": "2020-09-13T13:38:52.748796Z",
     "shell.execute_reply": "2020-09-13T13:38:52.748202Z"
    },
    "papermill": {
     "duration": 0.078303,
     "end_time": "2020-09-13T13:38:52.748916",
     "exception": false,
     "start_time": "2020-09-13T13:38:52.670613",
     "status": "completed"
    },
    "tags": []
   },
   "outputs": [
    {
     "data": {
      "text/plain": [
       "(1458, 79)"
      ]
     },
     "execution_count": 19,
     "metadata": {},
     "output_type": "execute_result"
    }
   ],
   "source": [
    "train_x.shape"
   ]
  },
  {
   "cell_type": "code",
   "execution_count": 20,
   "metadata": {
    "_uuid": "97d0cdc6742ba6f80db8e0025ca5b511834ac91c",
    "execution": {
     "iopub.execute_input": "2020-09-13T13:38:52.881085Z",
     "iopub.status.busy": "2020-09-13T13:38:52.880445Z",
     "iopub.status.idle": "2020-09-13T13:38:52.883844Z",
     "shell.execute_reply": "2020-09-13T13:38:52.884370Z"
    },
    "papermill": {
     "duration": 0.073974,
     "end_time": "2020-09-13T13:38:52.884510",
     "exception": false,
     "start_time": "2020-09-13T13:38:52.810536",
     "status": "completed"
    },
    "tags": []
   },
   "outputs": [
    {
     "data": {
      "text/plain": [
       "(1459, 79)"
      ]
     },
     "execution_count": 20,
     "metadata": {},
     "output_type": "execute_result"
    }
   ],
   "source": [
    "test_x.shape"
   ]
  },
  {
   "cell_type": "code",
   "execution_count": 21,
   "metadata": {
    "_uuid": "058c65cd2de7b0c18898548cfb9cd72e0443e48e",
    "execution": {
     "iopub.execute_input": "2020-09-13T13:38:53.008497Z",
     "iopub.status.busy": "2020-09-13T13:38:53.007414Z",
     "iopub.status.idle": "2020-09-13T13:38:53.029445Z",
     "shell.execute_reply": "2020-09-13T13:38:53.028923Z"
    },
    "papermill": {
     "duration": 0.087779,
     "end_time": "2020-09-13T13:38:53.029558",
     "exception": false,
     "start_time": "2020-09-13T13:38:52.941779",
     "status": "completed"
    },
    "tags": []
   },
   "outputs": [
    {
     "data": {
      "text/plain": [
       "(2917, 79)"
      ]
     },
     "execution_count": 21,
     "metadata": {},
     "output_type": "execute_result"
    }
   ],
   "source": [
    "total_features = pd.concat([train_x, test_x]).reset_index(drop=True)\n",
    "total_features.shape"
   ]
  },
  {
   "cell_type": "markdown",
   "metadata": {
    "_uuid": "57b7c5b7e9aa922debfad3057220eb93507ac554",
    "papermill": {
     "duration": 0.057572,
     "end_time": "2020-09-13T13:38:53.145014",
     "exception": false,
     "start_time": "2020-09-13T13:38:53.087442",
     "status": "completed"
    },
    "tags": []
   },
   "source": [
    "Determine the missing values"
   ]
  },
  {
   "cell_type": "code",
   "execution_count": 22,
   "metadata": {
    "_uuid": "e4d3f4adf60c7ffeb6c6d061e8519d3ed1aabc3f",
    "execution": {
     "iopub.execute_input": "2020-09-13T13:38:53.284481Z",
     "iopub.status.busy": "2020-09-13T13:38:53.283337Z",
     "iopub.status.idle": "2020-09-13T13:38:53.296058Z",
     "shell.execute_reply": "2020-09-13T13:38:53.296688Z"
    },
    "papermill": {
     "duration": 0.093841,
     "end_time": "2020-09-13T13:38:53.296870",
     "exception": false,
     "start_time": "2020-09-13T13:38:53.203029",
     "status": "completed"
    },
    "scrolled": true,
    "tags": []
   },
   "outputs": [
    {
     "name": "stdout",
     "output_type": "stream",
     "text": [
      "                 0        1\n",
      "PoolQC        2908   object\n",
      "MiscFeature   2812   object\n",
      "Alley         2719   object\n",
      "Fence         2346   object\n",
      "FireplaceQu   1420   object\n",
      "LotFrontage    486  float64\n",
      "GarageFinish   159   object\n",
      "GarageQual     159   object\n",
      "GarageCond     159   object\n",
      "GarageYrBlt    159  float64\n",
      "GarageType     157   object\n",
      "BsmtExposure    82   object\n",
      "BsmtCond        82   object\n",
      "BsmtQual        81   object\n",
      "BsmtFinType2    80   object\n",
      "BsmtFinType1    79   object\n",
      "MasVnrType      24   object\n",
      "MasVnrArea      23  float64\n",
      "MSZoning         4   object\n",
      "BsmtFullBath     2  float64\n",
      "BsmtHalfBath     2  float64\n",
      "Functional       2   object\n",
      "Utilities        2   object\n",
      "GarageArea       1  float64\n",
      "GarageCars       1  float64\n",
      "Electrical       1   object\n",
      "KitchenQual      1   object\n",
      "TotalBsmtSF      1  float64\n",
      "BsmtUnfSF        1  float64\n",
      "BsmtFinSF2       1  float64\n",
      "BsmtFinSF1       1  float64\n",
      "Exterior2nd      1   object\n",
      "Exterior1st      1   object\n",
      "SaleType         1   object\n",
      "There are 34 columns with missing values\n"
     ]
    }
   ],
   "source": [
    "nulls = np.sum(total_features.isnull())\n",
    "nullcols = nulls.loc[(nulls != 0)]\n",
    "dtypes = total_features.dtypes\n",
    "dtypes2 = dtypes.loc[(nulls != 0)]\n",
    "info = pd.concat([nullcols, dtypes2], axis=1).sort_values(by=0, ascending=False)\n",
    "print(info)\n",
    "print(\"There are\", len(nullcols), \"columns with missing values\")"
   ]
  },
  {
   "cell_type": "markdown",
   "metadata": {
    "_uuid": "1beeff7675edd66810753a3c36a6fac6fc4dfd17",
    "papermill": {
     "duration": 0.060106,
     "end_time": "2020-09-13T13:38:53.416879",
     "exception": false,
     "start_time": "2020-09-13T13:38:53.356773",
     "status": "completed"
    },
    "tags": []
   },
   "source": [
    "Impute the Missing Values"
   ]
  },
  {
   "cell_type": "code",
   "execution_count": 23,
   "metadata": {
    "_uuid": "aa91ef2cef90491b9e32a941ed6a846672934df9",
    "execution": {
     "iopub.execute_input": "2020-09-13T13:38:53.551155Z",
     "iopub.status.busy": "2020-09-13T13:38:53.550485Z",
     "iopub.status.idle": "2020-09-13T13:38:53.554035Z",
     "shell.execute_reply": "2020-09-13T13:38:53.553514Z"
    },
    "papermill": {
     "duration": 0.078468,
     "end_time": "2020-09-13T13:38:53.554155",
     "exception": false,
     "start_time": "2020-09-13T13:38:53.475687",
     "status": "completed"
    },
    "tags": []
   },
   "outputs": [],
   "source": [
    "total_features['Functional'] = total_features['Functional'].fillna('Typ')\n",
    "total_features['Electrical'] = total_features['Electrical'].fillna(\"SBrkr\")\n",
    "total_features['KitchenQual'] = total_features['KitchenQual'].fillna(\"TA\")\n",
    "\n",
    "total_features['Exterior1st'] = total_features['Exterior1st'].fillna(total_features['Exterior1st'].mode()[0])\n",
    "total_features['Exterior2nd'] = total_features['Exterior2nd'].fillna(total_features['Exterior2nd'].mode()[0])\n",
    "\n",
    "total_features['SaleType'] = total_features['SaleType'].fillna(total_features['SaleType'].mode()[0])"
   ]
  },
  {
   "cell_type": "markdown",
   "metadata": {
    "_uuid": "35417f6926e0ba3cec0df6d85daeab9c580d4b84",
    "papermill": {
     "duration": 0.058231,
     "end_time": "2020-09-13T13:38:53.671999",
     "exception": false,
     "start_time": "2020-09-13T13:38:53.613768",
     "status": "completed"
    },
    "tags": []
   },
   "source": [
    "Check what value to impute, when the variable value is missing."
   ]
  },
  {
   "cell_type": "code",
   "execution_count": 24,
   "metadata": {
    "_uuid": "8edc7a44eb4598790a757fc0b525af79d3f3ca44",
    "execution": {
     "iopub.execute_input": "2020-09-13T13:38:53.796488Z",
     "iopub.status.busy": "2020-09-13T13:38:53.795757Z",
     "iopub.status.idle": "2020-09-13T13:38:53.889416Z",
     "shell.execute_reply": "2020-09-13T13:38:53.888751Z"
    },
    "papermill": {
     "duration": 0.158975,
     "end_time": "2020-09-13T13:38:53.889529",
     "exception": false,
     "start_time": "2020-09-13T13:38:53.730554",
     "status": "completed"
    },
    "scrolled": true,
    "tags": []
   },
   "outputs": [
    {
     "data": {
      "text/html": [
       "<div>\n",
       "<style scoped>\n",
       "    .dataframe tbody tr th:only-of-type {\n",
       "        vertical-align: middle;\n",
       "    }\n",
       "\n",
       "    .dataframe tbody tr th {\n",
       "        vertical-align: top;\n",
       "    }\n",
       "\n",
       "    .dataframe thead th {\n",
       "        text-align: right;\n",
       "    }\n",
       "</style>\n",
       "<table border=\"1\" class=\"dataframe\">\n",
       "  <thead>\n",
       "    <tr style=\"text-align: right;\">\n",
       "      <th></th>\n",
       "      <th>MSSubClass</th>\n",
       "      <th>MSZoning</th>\n",
       "      <th>LotFrontage</th>\n",
       "      <th>LotArea</th>\n",
       "      <th>Street</th>\n",
       "      <th>Alley</th>\n",
       "      <th>LotShape</th>\n",
       "      <th>LandContour</th>\n",
       "      <th>Utilities</th>\n",
       "      <th>LotConfig</th>\n",
       "      <th>LandSlope</th>\n",
       "      <th>Neighborhood</th>\n",
       "      <th>Condition1</th>\n",
       "      <th>Condition2</th>\n",
       "      <th>BldgType</th>\n",
       "      <th>HouseStyle</th>\n",
       "      <th>OverallQual</th>\n",
       "      <th>OverallCond</th>\n",
       "      <th>YearBuilt</th>\n",
       "      <th>YearRemodAdd</th>\n",
       "      <th>RoofStyle</th>\n",
       "      <th>RoofMatl</th>\n",
       "      <th>Exterior1st</th>\n",
       "      <th>Exterior2nd</th>\n",
       "      <th>MasVnrType</th>\n",
       "      <th>MasVnrArea</th>\n",
       "      <th>ExterQual</th>\n",
       "      <th>ExterCond</th>\n",
       "      <th>Foundation</th>\n",
       "      <th>BsmtQual</th>\n",
       "      <th>BsmtCond</th>\n",
       "      <th>BsmtExposure</th>\n",
       "      <th>BsmtFinType1</th>\n",
       "      <th>BsmtFinSF1</th>\n",
       "      <th>BsmtFinType2</th>\n",
       "      <th>BsmtFinSF2</th>\n",
       "      <th>BsmtUnfSF</th>\n",
       "      <th>TotalBsmtSF</th>\n",
       "      <th>Heating</th>\n",
       "      <th>HeatingQC</th>\n",
       "      <th>CentralAir</th>\n",
       "      <th>Electrical</th>\n",
       "      <th>1stFlrSF</th>\n",
       "      <th>2ndFlrSF</th>\n",
       "      <th>LowQualFinSF</th>\n",
       "      <th>GrLivArea</th>\n",
       "      <th>BsmtFullBath</th>\n",
       "      <th>BsmtHalfBath</th>\n",
       "      <th>FullBath</th>\n",
       "      <th>HalfBath</th>\n",
       "      <th>BedroomAbvGr</th>\n",
       "      <th>KitchenAbvGr</th>\n",
       "      <th>KitchenQual</th>\n",
       "      <th>TotRmsAbvGrd</th>\n",
       "      <th>Functional</th>\n",
       "      <th>Fireplaces</th>\n",
       "      <th>FireplaceQu</th>\n",
       "      <th>GarageType</th>\n",
       "      <th>GarageYrBlt</th>\n",
       "      <th>GarageFinish</th>\n",
       "      <th>GarageCars</th>\n",
       "      <th>GarageArea</th>\n",
       "      <th>GarageQual</th>\n",
       "      <th>GarageCond</th>\n",
       "      <th>PavedDrive</th>\n",
       "      <th>WoodDeckSF</th>\n",
       "      <th>OpenPorchSF</th>\n",
       "      <th>EnclosedPorch</th>\n",
       "      <th>3SsnPorch</th>\n",
       "      <th>ScreenPorch</th>\n",
       "      <th>PoolArea</th>\n",
       "      <th>PoolQC</th>\n",
       "      <th>Fence</th>\n",
       "      <th>MiscFeature</th>\n",
       "      <th>MiscVal</th>\n",
       "      <th>MoSold</th>\n",
       "      <th>YrSold</th>\n",
       "      <th>SaleType</th>\n",
       "      <th>SaleCondition</th>\n",
       "    </tr>\n",
       "  </thead>\n",
       "  <tbody>\n",
       "    <tr>\n",
       "      <th>197</th>\n",
       "      <td>75</td>\n",
       "      <td>RL</td>\n",
       "      <td>174.0</td>\n",
       "      <td>25419</td>\n",
       "      <td>Pave</td>\n",
       "      <td>NaN</td>\n",
       "      <td>Reg</td>\n",
       "      <td>Lvl</td>\n",
       "      <td>AllPub</td>\n",
       "      <td>Corner</td>\n",
       "      <td>Gtl</td>\n",
       "      <td>NAmes</td>\n",
       "      <td>Artery</td>\n",
       "      <td>Norm</td>\n",
       "      <td>1Fam</td>\n",
       "      <td>2Story</td>\n",
       "      <td>8</td>\n",
       "      <td>4</td>\n",
       "      <td>1918</td>\n",
       "      <td>1990</td>\n",
       "      <td>Gable</td>\n",
       "      <td>CompShg</td>\n",
       "      <td>Stucco</td>\n",
       "      <td>Stucco</td>\n",
       "      <td>None</td>\n",
       "      <td>0.0</td>\n",
       "      <td>Gd</td>\n",
       "      <td>Gd</td>\n",
       "      <td>PConc</td>\n",
       "      <td>TA</td>\n",
       "      <td>TA</td>\n",
       "      <td>No</td>\n",
       "      <td>GLQ</td>\n",
       "      <td>1036.0</td>\n",
       "      <td>LwQ</td>\n",
       "      <td>184.0</td>\n",
       "      <td>140.0</td>\n",
       "      <td>1360.0</td>\n",
       "      <td>GasA</td>\n",
       "      <td>Gd</td>\n",
       "      <td>Y</td>\n",
       "      <td>SBrkr</td>\n",
       "      <td>1360</td>\n",
       "      <td>1360</td>\n",
       "      <td>392</td>\n",
       "      <td>3112</td>\n",
       "      <td>1.0</td>\n",
       "      <td>1.0</td>\n",
       "      <td>2</td>\n",
       "      <td>0</td>\n",
       "      <td>4</td>\n",
       "      <td>1</td>\n",
       "      <td>Gd</td>\n",
       "      <td>8</td>\n",
       "      <td>Typ</td>\n",
       "      <td>1</td>\n",
       "      <td>Ex</td>\n",
       "      <td>Detchd</td>\n",
       "      <td>1918.0</td>\n",
       "      <td>Unf</td>\n",
       "      <td>2.0</td>\n",
       "      <td>795.0</td>\n",
       "      <td>TA</td>\n",
       "      <td>TA</td>\n",
       "      <td>Y</td>\n",
       "      <td>0</td>\n",
       "      <td>16</td>\n",
       "      <td>552</td>\n",
       "      <td>0</td>\n",
       "      <td>0</td>\n",
       "      <td>512</td>\n",
       "      <td>Ex</td>\n",
       "      <td>GdPrv</td>\n",
       "      <td>NaN</td>\n",
       "      <td>0</td>\n",
       "      <td>3</td>\n",
       "      <td>2006</td>\n",
       "      <td>WD</td>\n",
       "      <td>Abnorml</td>\n",
       "    </tr>\n",
       "    <tr>\n",
       "      <th>809</th>\n",
       "      <td>20</td>\n",
       "      <td>RL</td>\n",
       "      <td>78.0</td>\n",
       "      <td>10140</td>\n",
       "      <td>Pave</td>\n",
       "      <td>NaN</td>\n",
       "      <td>Reg</td>\n",
       "      <td>Lvl</td>\n",
       "      <td>AllPub</td>\n",
       "      <td>Inside</td>\n",
       "      <td>Gtl</td>\n",
       "      <td>NWAmes</td>\n",
       "      <td>Norm</td>\n",
       "      <td>Norm</td>\n",
       "      <td>1Fam</td>\n",
       "      <td>1Story</td>\n",
       "      <td>6</td>\n",
       "      <td>6</td>\n",
       "      <td>1974</td>\n",
       "      <td>1999</td>\n",
       "      <td>Hip</td>\n",
       "      <td>CompShg</td>\n",
       "      <td>HdBoard</td>\n",
       "      <td>HdBoard</td>\n",
       "      <td>BrkFace</td>\n",
       "      <td>99.0</td>\n",
       "      <td>TA</td>\n",
       "      <td>TA</td>\n",
       "      <td>CBlock</td>\n",
       "      <td>TA</td>\n",
       "      <td>TA</td>\n",
       "      <td>No</td>\n",
       "      <td>ALQ</td>\n",
       "      <td>663.0</td>\n",
       "      <td>LwQ</td>\n",
       "      <td>377.0</td>\n",
       "      <td>0.0</td>\n",
       "      <td>1040.0</td>\n",
       "      <td>GasA</td>\n",
       "      <td>Fa</td>\n",
       "      <td>Y</td>\n",
       "      <td>SBrkr</td>\n",
       "      <td>1309</td>\n",
       "      <td>0</td>\n",
       "      <td>0</td>\n",
       "      <td>1309</td>\n",
       "      <td>1.0</td>\n",
       "      <td>0.0</td>\n",
       "      <td>1</td>\n",
       "      <td>1</td>\n",
       "      <td>3</td>\n",
       "      <td>1</td>\n",
       "      <td>Gd</td>\n",
       "      <td>5</td>\n",
       "      <td>Typ</td>\n",
       "      <td>1</td>\n",
       "      <td>Fa</td>\n",
       "      <td>Attchd</td>\n",
       "      <td>1974.0</td>\n",
       "      <td>RFn</td>\n",
       "      <td>2.0</td>\n",
       "      <td>484.0</td>\n",
       "      <td>TA</td>\n",
       "      <td>TA</td>\n",
       "      <td>Y</td>\n",
       "      <td>265</td>\n",
       "      <td>0</td>\n",
       "      <td>0</td>\n",
       "      <td>0</td>\n",
       "      <td>0</td>\n",
       "      <td>648</td>\n",
       "      <td>Fa</td>\n",
       "      <td>GdPrv</td>\n",
       "      <td>NaN</td>\n",
       "      <td>0</td>\n",
       "      <td>1</td>\n",
       "      <td>2006</td>\n",
       "      <td>WD</td>\n",
       "      <td>Normal</td>\n",
       "    </tr>\n",
       "    <tr>\n",
       "      <th>1169</th>\n",
       "      <td>80</td>\n",
       "      <td>RL</td>\n",
       "      <td>76.0</td>\n",
       "      <td>9880</td>\n",
       "      <td>Pave</td>\n",
       "      <td>NaN</td>\n",
       "      <td>Reg</td>\n",
       "      <td>Lvl</td>\n",
       "      <td>AllPub</td>\n",
       "      <td>Inside</td>\n",
       "      <td>Gtl</td>\n",
       "      <td>Mitchel</td>\n",
       "      <td>Norm</td>\n",
       "      <td>Norm</td>\n",
       "      <td>1Fam</td>\n",
       "      <td>SLvl</td>\n",
       "      <td>6</td>\n",
       "      <td>6</td>\n",
       "      <td>1977</td>\n",
       "      <td>1977</td>\n",
       "      <td>Gable</td>\n",
       "      <td>CompShg</td>\n",
       "      <td>Plywood</td>\n",
       "      <td>Plywood</td>\n",
       "      <td>None</td>\n",
       "      <td>0.0</td>\n",
       "      <td>TA</td>\n",
       "      <td>TA</td>\n",
       "      <td>CBlock</td>\n",
       "      <td>TA</td>\n",
       "      <td>TA</td>\n",
       "      <td>Av</td>\n",
       "      <td>ALQ</td>\n",
       "      <td>522.0</td>\n",
       "      <td>Unf</td>\n",
       "      <td>0.0</td>\n",
       "      <td>574.0</td>\n",
       "      <td>1096.0</td>\n",
       "      <td>GasA</td>\n",
       "      <td>TA</td>\n",
       "      <td>Y</td>\n",
       "      <td>SBrkr</td>\n",
       "      <td>1118</td>\n",
       "      <td>0</td>\n",
       "      <td>0</td>\n",
       "      <td>1118</td>\n",
       "      <td>1.0</td>\n",
       "      <td>0.0</td>\n",
       "      <td>1</td>\n",
       "      <td>0</td>\n",
       "      <td>3</td>\n",
       "      <td>1</td>\n",
       "      <td>TA</td>\n",
       "      <td>6</td>\n",
       "      <td>Typ</td>\n",
       "      <td>1</td>\n",
       "      <td>Po</td>\n",
       "      <td>Attchd</td>\n",
       "      <td>1977.0</td>\n",
       "      <td>Fin</td>\n",
       "      <td>1.0</td>\n",
       "      <td>358.0</td>\n",
       "      <td>TA</td>\n",
       "      <td>TA</td>\n",
       "      <td>Y</td>\n",
       "      <td>203</td>\n",
       "      <td>0</td>\n",
       "      <td>0</td>\n",
       "      <td>0</td>\n",
       "      <td>0</td>\n",
       "      <td>576</td>\n",
       "      <td>Gd</td>\n",
       "      <td>GdPrv</td>\n",
       "      <td>NaN</td>\n",
       "      <td>0</td>\n",
       "      <td>7</td>\n",
       "      <td>2008</td>\n",
       "      <td>WD</td>\n",
       "      <td>Normal</td>\n",
       "    </tr>\n",
       "    <tr>\n",
       "      <th>1181</th>\n",
       "      <td>60</td>\n",
       "      <td>RL</td>\n",
       "      <td>160.0</td>\n",
       "      <td>15623</td>\n",
       "      <td>Pave</td>\n",
       "      <td>NaN</td>\n",
       "      <td>IR1</td>\n",
       "      <td>Lvl</td>\n",
       "      <td>AllPub</td>\n",
       "      <td>Corner</td>\n",
       "      <td>Gtl</td>\n",
       "      <td>NoRidge</td>\n",
       "      <td>Norm</td>\n",
       "      <td>Norm</td>\n",
       "      <td>1Fam</td>\n",
       "      <td>2Story</td>\n",
       "      <td>10</td>\n",
       "      <td>5</td>\n",
       "      <td>1996</td>\n",
       "      <td>1996</td>\n",
       "      <td>Hip</td>\n",
       "      <td>CompShg</td>\n",
       "      <td>Wd Sdng</td>\n",
       "      <td>ImStucc</td>\n",
       "      <td>None</td>\n",
       "      <td>0.0</td>\n",
       "      <td>Gd</td>\n",
       "      <td>TA</td>\n",
       "      <td>PConc</td>\n",
       "      <td>Ex</td>\n",
       "      <td>TA</td>\n",
       "      <td>Av</td>\n",
       "      <td>GLQ</td>\n",
       "      <td>2096.0</td>\n",
       "      <td>Unf</td>\n",
       "      <td>0.0</td>\n",
       "      <td>300.0</td>\n",
       "      <td>2396.0</td>\n",
       "      <td>GasA</td>\n",
       "      <td>Ex</td>\n",
       "      <td>Y</td>\n",
       "      <td>SBrkr</td>\n",
       "      <td>2411</td>\n",
       "      <td>2065</td>\n",
       "      <td>0</td>\n",
       "      <td>4476</td>\n",
       "      <td>1.0</td>\n",
       "      <td>0.0</td>\n",
       "      <td>3</td>\n",
       "      <td>1</td>\n",
       "      <td>4</td>\n",
       "      <td>1</td>\n",
       "      <td>Ex</td>\n",
       "      <td>10</td>\n",
       "      <td>Typ</td>\n",
       "      <td>2</td>\n",
       "      <td>TA</td>\n",
       "      <td>Attchd</td>\n",
       "      <td>1996.0</td>\n",
       "      <td>Fin</td>\n",
       "      <td>3.0</td>\n",
       "      <td>813.0</td>\n",
       "      <td>TA</td>\n",
       "      <td>TA</td>\n",
       "      <td>Y</td>\n",
       "      <td>171</td>\n",
       "      <td>78</td>\n",
       "      <td>0</td>\n",
       "      <td>0</td>\n",
       "      <td>0</td>\n",
       "      <td>555</td>\n",
       "      <td>Ex</td>\n",
       "      <td>MnPrv</td>\n",
       "      <td>NaN</td>\n",
       "      <td>0</td>\n",
       "      <td>7</td>\n",
       "      <td>2007</td>\n",
       "      <td>WD</td>\n",
       "      <td>Abnorml</td>\n",
       "    </tr>\n",
       "    <tr>\n",
       "      <th>1384</th>\n",
       "      <td>60</td>\n",
       "      <td>RL</td>\n",
       "      <td>80.0</td>\n",
       "      <td>16692</td>\n",
       "      <td>Pave</td>\n",
       "      <td>NaN</td>\n",
       "      <td>IR1</td>\n",
       "      <td>Lvl</td>\n",
       "      <td>AllPub</td>\n",
       "      <td>Inside</td>\n",
       "      <td>Gtl</td>\n",
       "      <td>NWAmes</td>\n",
       "      <td>RRAn</td>\n",
       "      <td>Norm</td>\n",
       "      <td>1Fam</td>\n",
       "      <td>2Story</td>\n",
       "      <td>7</td>\n",
       "      <td>5</td>\n",
       "      <td>1978</td>\n",
       "      <td>1978</td>\n",
       "      <td>Gable</td>\n",
       "      <td>CompShg</td>\n",
       "      <td>Plywood</td>\n",
       "      <td>Plywood</td>\n",
       "      <td>BrkFace</td>\n",
       "      <td>184.0</td>\n",
       "      <td>TA</td>\n",
       "      <td>TA</td>\n",
       "      <td>CBlock</td>\n",
       "      <td>Gd</td>\n",
       "      <td>TA</td>\n",
       "      <td>No</td>\n",
       "      <td>BLQ</td>\n",
       "      <td>790.0</td>\n",
       "      <td>LwQ</td>\n",
       "      <td>469.0</td>\n",
       "      <td>133.0</td>\n",
       "      <td>1392.0</td>\n",
       "      <td>GasA</td>\n",
       "      <td>TA</td>\n",
       "      <td>Y</td>\n",
       "      <td>SBrkr</td>\n",
       "      <td>1392</td>\n",
       "      <td>1392</td>\n",
       "      <td>0</td>\n",
       "      <td>2784</td>\n",
       "      <td>1.0</td>\n",
       "      <td>0.0</td>\n",
       "      <td>3</td>\n",
       "      <td>1</td>\n",
       "      <td>5</td>\n",
       "      <td>1</td>\n",
       "      <td>Gd</td>\n",
       "      <td>12</td>\n",
       "      <td>Typ</td>\n",
       "      <td>2</td>\n",
       "      <td>TA</td>\n",
       "      <td>Attchd</td>\n",
       "      <td>1978.0</td>\n",
       "      <td>RFn</td>\n",
       "      <td>2.0</td>\n",
       "      <td>564.0</td>\n",
       "      <td>TA</td>\n",
       "      <td>TA</td>\n",
       "      <td>Y</td>\n",
       "      <td>0</td>\n",
       "      <td>112</td>\n",
       "      <td>0</td>\n",
       "      <td>0</td>\n",
       "      <td>440</td>\n",
       "      <td>519</td>\n",
       "      <td>Fa</td>\n",
       "      <td>MnPrv</td>\n",
       "      <td>TenC</td>\n",
       "      <td>2000</td>\n",
       "      <td>7</td>\n",
       "      <td>2006</td>\n",
       "      <td>WD</td>\n",
       "      <td>Normal</td>\n",
       "    </tr>\n",
       "    <tr>\n",
       "      <th>1421</th>\n",
       "      <td>80</td>\n",
       "      <td>RL</td>\n",
       "      <td>NaN</td>\n",
       "      <td>19690</td>\n",
       "      <td>Pave</td>\n",
       "      <td>NaN</td>\n",
       "      <td>IR1</td>\n",
       "      <td>Lvl</td>\n",
       "      <td>AllPub</td>\n",
       "      <td>CulDSac</td>\n",
       "      <td>Gtl</td>\n",
       "      <td>Edwards</td>\n",
       "      <td>Norm</td>\n",
       "      <td>Norm</td>\n",
       "      <td>1Fam</td>\n",
       "      <td>SLvl</td>\n",
       "      <td>6</td>\n",
       "      <td>7</td>\n",
       "      <td>1966</td>\n",
       "      <td>1966</td>\n",
       "      <td>Flat</td>\n",
       "      <td>Tar&amp;Grv</td>\n",
       "      <td>Plywood</td>\n",
       "      <td>Plywood</td>\n",
       "      <td>None</td>\n",
       "      <td>0.0</td>\n",
       "      <td>Gd</td>\n",
       "      <td>Gd</td>\n",
       "      <td>CBlock</td>\n",
       "      <td>Gd</td>\n",
       "      <td>TA</td>\n",
       "      <td>Av</td>\n",
       "      <td>Unf</td>\n",
       "      <td>0.0</td>\n",
       "      <td>Unf</td>\n",
       "      <td>0.0</td>\n",
       "      <td>697.0</td>\n",
       "      <td>697.0</td>\n",
       "      <td>GasA</td>\n",
       "      <td>TA</td>\n",
       "      <td>Y</td>\n",
       "      <td>SBrkr</td>\n",
       "      <td>1575</td>\n",
       "      <td>626</td>\n",
       "      <td>0</td>\n",
       "      <td>2201</td>\n",
       "      <td>0.0</td>\n",
       "      <td>0.0</td>\n",
       "      <td>2</td>\n",
       "      <td>0</td>\n",
       "      <td>4</td>\n",
       "      <td>1</td>\n",
       "      <td>Gd</td>\n",
       "      <td>8</td>\n",
       "      <td>Typ</td>\n",
       "      <td>1</td>\n",
       "      <td>Gd</td>\n",
       "      <td>Attchd</td>\n",
       "      <td>1966.0</td>\n",
       "      <td>Unf</td>\n",
       "      <td>2.0</td>\n",
       "      <td>432.0</td>\n",
       "      <td>Gd</td>\n",
       "      <td>Gd</td>\n",
       "      <td>Y</td>\n",
       "      <td>586</td>\n",
       "      <td>236</td>\n",
       "      <td>0</td>\n",
       "      <td>0</td>\n",
       "      <td>0</td>\n",
       "      <td>738</td>\n",
       "      <td>Gd</td>\n",
       "      <td>GdPrv</td>\n",
       "      <td>NaN</td>\n",
       "      <td>0</td>\n",
       "      <td>8</td>\n",
       "      <td>2006</td>\n",
       "      <td>WD</td>\n",
       "      <td>Alloca</td>\n",
       "    </tr>\n",
       "    <tr>\n",
       "      <th>1972</th>\n",
       "      <td>20</td>\n",
       "      <td>RL</td>\n",
       "      <td>106.0</td>\n",
       "      <td>12720</td>\n",
       "      <td>Pave</td>\n",
       "      <td>NaN</td>\n",
       "      <td>Reg</td>\n",
       "      <td>HLS</td>\n",
       "      <td>AllPub</td>\n",
       "      <td>Inside</td>\n",
       "      <td>Mod</td>\n",
       "      <td>NridgHt</td>\n",
       "      <td>Norm</td>\n",
       "      <td>Norm</td>\n",
       "      <td>1Fam</td>\n",
       "      <td>1Story</td>\n",
       "      <td>10</td>\n",
       "      <td>5</td>\n",
       "      <td>2003</td>\n",
       "      <td>2003</td>\n",
       "      <td>Hip</td>\n",
       "      <td>CompShg</td>\n",
       "      <td>MetalSd</td>\n",
       "      <td>MetalSd</td>\n",
       "      <td>Stone</td>\n",
       "      <td>680.0</td>\n",
       "      <td>Ex</td>\n",
       "      <td>TA</td>\n",
       "      <td>PConc</td>\n",
       "      <td>Ex</td>\n",
       "      <td>TA</td>\n",
       "      <td>Gd</td>\n",
       "      <td>GLQ</td>\n",
       "      <td>2257.0</td>\n",
       "      <td>Unf</td>\n",
       "      <td>0.0</td>\n",
       "      <td>278.0</td>\n",
       "      <td>2535.0</td>\n",
       "      <td>GasA</td>\n",
       "      <td>Ex</td>\n",
       "      <td>Y</td>\n",
       "      <td>SBrkr</td>\n",
       "      <td>2470</td>\n",
       "      <td>0</td>\n",
       "      <td>0</td>\n",
       "      <td>2470</td>\n",
       "      <td>2.0</td>\n",
       "      <td>0.0</td>\n",
       "      <td>1</td>\n",
       "      <td>1</td>\n",
       "      <td>1</td>\n",
       "      <td>1</td>\n",
       "      <td>Ex</td>\n",
       "      <td>7</td>\n",
       "      <td>Typ</td>\n",
       "      <td>2</td>\n",
       "      <td>Gd</td>\n",
       "      <td>Attchd</td>\n",
       "      <td>2003.0</td>\n",
       "      <td>Fin</td>\n",
       "      <td>3.0</td>\n",
       "      <td>789.0</td>\n",
       "      <td>TA</td>\n",
       "      <td>TA</td>\n",
       "      <td>Y</td>\n",
       "      <td>154</td>\n",
       "      <td>65</td>\n",
       "      <td>0</td>\n",
       "      <td>0</td>\n",
       "      <td>216</td>\n",
       "      <td>144</td>\n",
       "      <td>Ex</td>\n",
       "      <td>NaN</td>\n",
       "      <td>NaN</td>\n",
       "      <td>0</td>\n",
       "      <td>2</td>\n",
       "      <td>2008</td>\n",
       "      <td>WD</td>\n",
       "      <td>Normal</td>\n",
       "    </tr>\n",
       "    <tr>\n",
       "      <th>2418</th>\n",
       "      <td>20</td>\n",
       "      <td>RL</td>\n",
       "      <td>75.0</td>\n",
       "      <td>9532</td>\n",
       "      <td>Pave</td>\n",
       "      <td>NaN</td>\n",
       "      <td>Reg</td>\n",
       "      <td>Lvl</td>\n",
       "      <td>AllPub</td>\n",
       "      <td>Inside</td>\n",
       "      <td>Gtl</td>\n",
       "      <td>NAmes</td>\n",
       "      <td>Norm</td>\n",
       "      <td>Norm</td>\n",
       "      <td>1Fam</td>\n",
       "      <td>1Story</td>\n",
       "      <td>4</td>\n",
       "      <td>6</td>\n",
       "      <td>1953</td>\n",
       "      <td>1953</td>\n",
       "      <td>Gable</td>\n",
       "      <td>CompShg</td>\n",
       "      <td>VinylSd</td>\n",
       "      <td>VinylSd</td>\n",
       "      <td>None</td>\n",
       "      <td>0.0</td>\n",
       "      <td>TA</td>\n",
       "      <td>TA</td>\n",
       "      <td>CBlock</td>\n",
       "      <td>TA</td>\n",
       "      <td>TA</td>\n",
       "      <td>No</td>\n",
       "      <td>BLQ</td>\n",
       "      <td>595.0</td>\n",
       "      <td>Rec</td>\n",
       "      <td>354.0</td>\n",
       "      <td>156.0</td>\n",
       "      <td>1105.0</td>\n",
       "      <td>GasA</td>\n",
       "      <td>Gd</td>\n",
       "      <td>Y</td>\n",
       "      <td>SBrkr</td>\n",
       "      <td>1647</td>\n",
       "      <td>0</td>\n",
       "      <td>0</td>\n",
       "      <td>1647</td>\n",
       "      <td>1.0</td>\n",
       "      <td>0.0</td>\n",
       "      <td>1</td>\n",
       "      <td>0</td>\n",
       "      <td>3</td>\n",
       "      <td>1</td>\n",
       "      <td>TA</td>\n",
       "      <td>6</td>\n",
       "      <td>Min1</td>\n",
       "      <td>1</td>\n",
       "      <td>Fa</td>\n",
       "      <td>Attchd</td>\n",
       "      <td>1953.0</td>\n",
       "      <td>Fin</td>\n",
       "      <td>1.0</td>\n",
       "      <td>280.0</td>\n",
       "      <td>TA</td>\n",
       "      <td>TA</td>\n",
       "      <td>Y</td>\n",
       "      <td>225</td>\n",
       "      <td>0</td>\n",
       "      <td>0</td>\n",
       "      <td>0</td>\n",
       "      <td>0</td>\n",
       "      <td>368</td>\n",
       "      <td>NaN</td>\n",
       "      <td>GdPrv</td>\n",
       "      <td>NaN</td>\n",
       "      <td>0</td>\n",
       "      <td>2</td>\n",
       "      <td>2007</td>\n",
       "      <td>WD</td>\n",
       "      <td>Normal</td>\n",
       "    </tr>\n",
       "    <tr>\n",
       "      <th>2501</th>\n",
       "      <td>50</td>\n",
       "      <td>RL</td>\n",
       "      <td>104.0</td>\n",
       "      <td>23920</td>\n",
       "      <td>Pave</td>\n",
       "      <td>NaN</td>\n",
       "      <td>Reg</td>\n",
       "      <td>Lvl</td>\n",
       "      <td>AllPub</td>\n",
       "      <td>Inside</td>\n",
       "      <td>Gtl</td>\n",
       "      <td>SawyerW</td>\n",
       "      <td>Feedr</td>\n",
       "      <td>Norm</td>\n",
       "      <td>1Fam</td>\n",
       "      <td>1.5Fin</td>\n",
       "      <td>6</td>\n",
       "      <td>5</td>\n",
       "      <td>1984</td>\n",
       "      <td>1984</td>\n",
       "      <td>Gable</td>\n",
       "      <td>CompShg</td>\n",
       "      <td>Wd Sdng</td>\n",
       "      <td>Wd Sdng</td>\n",
       "      <td>None</td>\n",
       "      <td>0.0</td>\n",
       "      <td>TA</td>\n",
       "      <td>TA</td>\n",
       "      <td>CBlock</td>\n",
       "      <td>TA</td>\n",
       "      <td>TA</td>\n",
       "      <td>No</td>\n",
       "      <td>Unf</td>\n",
       "      <td>0.0</td>\n",
       "      <td>Unf</td>\n",
       "      <td>0.0</td>\n",
       "      <td>1105.0</td>\n",
       "      <td>1105.0</td>\n",
       "      <td>GasA</td>\n",
       "      <td>Ex</td>\n",
       "      <td>Y</td>\n",
       "      <td>SBrkr</td>\n",
       "      <td>1105</td>\n",
       "      <td>717</td>\n",
       "      <td>0</td>\n",
       "      <td>1822</td>\n",
       "      <td>0.0</td>\n",
       "      <td>0.0</td>\n",
       "      <td>2</td>\n",
       "      <td>0</td>\n",
       "      <td>4</td>\n",
       "      <td>1</td>\n",
       "      <td>Gd</td>\n",
       "      <td>7</td>\n",
       "      <td>Min2</td>\n",
       "      <td>1</td>\n",
       "      <td>Po</td>\n",
       "      <td>Attchd</td>\n",
       "      <td>1984.0</td>\n",
       "      <td>Unf</td>\n",
       "      <td>2.0</td>\n",
       "      <td>515.0</td>\n",
       "      <td>TA</td>\n",
       "      <td>TA</td>\n",
       "      <td>P</td>\n",
       "      <td>0</td>\n",
       "      <td>195</td>\n",
       "      <td>1012</td>\n",
       "      <td>0</td>\n",
       "      <td>0</td>\n",
       "      <td>444</td>\n",
       "      <td>NaN</td>\n",
       "      <td>NaN</td>\n",
       "      <td>NaN</td>\n",
       "      <td>0</td>\n",
       "      <td>4</td>\n",
       "      <td>2007</td>\n",
       "      <td>WD</td>\n",
       "      <td>Normal</td>\n",
       "    </tr>\n",
       "    <tr>\n",
       "      <th>2571</th>\n",
       "      <td>20</td>\n",
       "      <td>RL</td>\n",
       "      <td>70.0</td>\n",
       "      <td>18044</td>\n",
       "      <td>Pave</td>\n",
       "      <td>NaN</td>\n",
       "      <td>IR1</td>\n",
       "      <td>HLS</td>\n",
       "      <td>AllPub</td>\n",
       "      <td>CulDSac</td>\n",
       "      <td>Gtl</td>\n",
       "      <td>Crawfor</td>\n",
       "      <td>Norm</td>\n",
       "      <td>Norm</td>\n",
       "      <td>1Fam</td>\n",
       "      <td>1Story</td>\n",
       "      <td>8</td>\n",
       "      <td>5</td>\n",
       "      <td>1986</td>\n",
       "      <td>1986</td>\n",
       "      <td>Gable</td>\n",
       "      <td>CompShg</td>\n",
       "      <td>WdShing</td>\n",
       "      <td>Plywood</td>\n",
       "      <td>None</td>\n",
       "      <td>0.0</td>\n",
       "      <td>Gd</td>\n",
       "      <td>TA</td>\n",
       "      <td>CBlock</td>\n",
       "      <td>Gd</td>\n",
       "      <td>TA</td>\n",
       "      <td>No</td>\n",
       "      <td>Unf</td>\n",
       "      <td>0.0</td>\n",
       "      <td>Unf</td>\n",
       "      <td>0.0</td>\n",
       "      <td>279.0</td>\n",
       "      <td>279.0</td>\n",
       "      <td>GasA</td>\n",
       "      <td>Gd</td>\n",
       "      <td>Y</td>\n",
       "      <td>SBrkr</td>\n",
       "      <td>2726</td>\n",
       "      <td>0</td>\n",
       "      <td>0</td>\n",
       "      <td>2726</td>\n",
       "      <td>0.0</td>\n",
       "      <td>0.0</td>\n",
       "      <td>2</td>\n",
       "      <td>1</td>\n",
       "      <td>2</td>\n",
       "      <td>1</td>\n",
       "      <td>Gd</td>\n",
       "      <td>6</td>\n",
       "      <td>Typ</td>\n",
       "      <td>1</td>\n",
       "      <td>Gd</td>\n",
       "      <td>Attchd</td>\n",
       "      <td>1986.0</td>\n",
       "      <td>Fin</td>\n",
       "      <td>2.0</td>\n",
       "      <td>691.0</td>\n",
       "      <td>Gd</td>\n",
       "      <td>Gd</td>\n",
       "      <td>Y</td>\n",
       "      <td>216</td>\n",
       "      <td>64</td>\n",
       "      <td>169</td>\n",
       "      <td>0</td>\n",
       "      <td>0</td>\n",
       "      <td>228</td>\n",
       "      <td>Ex</td>\n",
       "      <td>NaN</td>\n",
       "      <td>NaN</td>\n",
       "      <td>0</td>\n",
       "      <td>8</td>\n",
       "      <td>2007</td>\n",
       "      <td>WD</td>\n",
       "      <td>Normal</td>\n",
       "    </tr>\n",
       "    <tr>\n",
       "      <th>2597</th>\n",
       "      <td>20</td>\n",
       "      <td>RL</td>\n",
       "      <td>200.0</td>\n",
       "      <td>43500</td>\n",
       "      <td>Pave</td>\n",
       "      <td>NaN</td>\n",
       "      <td>Reg</td>\n",
       "      <td>Lvl</td>\n",
       "      <td>AllPub</td>\n",
       "      <td>Inside</td>\n",
       "      <td>Gtl</td>\n",
       "      <td>Mitchel</td>\n",
       "      <td>Artery</td>\n",
       "      <td>Norm</td>\n",
       "      <td>1Fam</td>\n",
       "      <td>1Story</td>\n",
       "      <td>3</td>\n",
       "      <td>5</td>\n",
       "      <td>1953</td>\n",
       "      <td>1953</td>\n",
       "      <td>Gable</td>\n",
       "      <td>CompShg</td>\n",
       "      <td>MetalSd</td>\n",
       "      <td>MetalSd</td>\n",
       "      <td>None</td>\n",
       "      <td>0.0</td>\n",
       "      <td>TA</td>\n",
       "      <td>TA</td>\n",
       "      <td>CBlock</td>\n",
       "      <td>NaN</td>\n",
       "      <td>NaN</td>\n",
       "      <td>NaN</td>\n",
       "      <td>NaN</td>\n",
       "      <td>0.0</td>\n",
       "      <td>NaN</td>\n",
       "      <td>0.0</td>\n",
       "      <td>0.0</td>\n",
       "      <td>0.0</td>\n",
       "      <td>GasA</td>\n",
       "      <td>Ex</td>\n",
       "      <td>Y</td>\n",
       "      <td>SBrkr</td>\n",
       "      <td>2034</td>\n",
       "      <td>0</td>\n",
       "      <td>0</td>\n",
       "      <td>2034</td>\n",
       "      <td>0.0</td>\n",
       "      <td>0.0</td>\n",
       "      <td>1</td>\n",
       "      <td>0</td>\n",
       "      <td>2</td>\n",
       "      <td>1</td>\n",
       "      <td>TA</td>\n",
       "      <td>9</td>\n",
       "      <td>Min1</td>\n",
       "      <td>0</td>\n",
       "      <td>NaN</td>\n",
       "      <td>2Types</td>\n",
       "      <td>1953.0</td>\n",
       "      <td>RFn</td>\n",
       "      <td>4.0</td>\n",
       "      <td>1041.0</td>\n",
       "      <td>TA</td>\n",
       "      <td>TA</td>\n",
       "      <td>N</td>\n",
       "      <td>483</td>\n",
       "      <td>266</td>\n",
       "      <td>0</td>\n",
       "      <td>0</td>\n",
       "      <td>0</td>\n",
       "      <td>561</td>\n",
       "      <td>NaN</td>\n",
       "      <td>GdPrv</td>\n",
       "      <td>NaN</td>\n",
       "      <td>0</td>\n",
       "      <td>6</td>\n",
       "      <td>2007</td>\n",
       "      <td>WD</td>\n",
       "      <td>Normal</td>\n",
       "    </tr>\n",
       "    <tr>\n",
       "      <th>2708</th>\n",
       "      <td>80</td>\n",
       "      <td>RL</td>\n",
       "      <td>100.0</td>\n",
       "      <td>14330</td>\n",
       "      <td>Pave</td>\n",
       "      <td>NaN</td>\n",
       "      <td>IR1</td>\n",
       "      <td>Low</td>\n",
       "      <td>AllPub</td>\n",
       "      <td>Corner</td>\n",
       "      <td>Gtl</td>\n",
       "      <td>Veenker</td>\n",
       "      <td>Norm</td>\n",
       "      <td>Norm</td>\n",
       "      <td>1Fam</td>\n",
       "      <td>SLvl</td>\n",
       "      <td>7</td>\n",
       "      <td>4</td>\n",
       "      <td>1974</td>\n",
       "      <td>1974</td>\n",
       "      <td>Gable</td>\n",
       "      <td>CompShg</td>\n",
       "      <td>WdShing</td>\n",
       "      <td>Wd Sdng</td>\n",
       "      <td>BrkFace</td>\n",
       "      <td>145.0</td>\n",
       "      <td>Gd</td>\n",
       "      <td>Fa</td>\n",
       "      <td>CBlock</td>\n",
       "      <td>Gd</td>\n",
       "      <td>TA</td>\n",
       "      <td>Gd</td>\n",
       "      <td>ALQ</td>\n",
       "      <td>1023.0</td>\n",
       "      <td>BLQ</td>\n",
       "      <td>497.0</td>\n",
       "      <td>228.0</td>\n",
       "      <td>1748.0</td>\n",
       "      <td>GasA</td>\n",
       "      <td>Gd</td>\n",
       "      <td>Y</td>\n",
       "      <td>SBrkr</td>\n",
       "      <td>2151</td>\n",
       "      <td>495</td>\n",
       "      <td>0</td>\n",
       "      <td>2646</td>\n",
       "      <td>1.0</td>\n",
       "      <td>2.0</td>\n",
       "      <td>2</td>\n",
       "      <td>0</td>\n",
       "      <td>3</td>\n",
       "      <td>1</td>\n",
       "      <td>Gd</td>\n",
       "      <td>9</td>\n",
       "      <td>Mod</td>\n",
       "      <td>4</td>\n",
       "      <td>TA</td>\n",
       "      <td>Attchd</td>\n",
       "      <td>1974.0</td>\n",
       "      <td>RFn</td>\n",
       "      <td>2.0</td>\n",
       "      <td>550.0</td>\n",
       "      <td>TA</td>\n",
       "      <td>TA</td>\n",
       "      <td>Y</td>\n",
       "      <td>641</td>\n",
       "      <td>100</td>\n",
       "      <td>0</td>\n",
       "      <td>0</td>\n",
       "      <td>0</td>\n",
       "      <td>800</td>\n",
       "      <td>Gd</td>\n",
       "      <td>GdPrv</td>\n",
       "      <td>NaN</td>\n",
       "      <td>0</td>\n",
       "      <td>1</td>\n",
       "      <td>2006</td>\n",
       "      <td>WD</td>\n",
       "      <td>Normal</td>\n",
       "    </tr>\n",
       "  </tbody>\n",
       "</table>\n",
       "</div>"
      ],
      "text/plain": [
       "      MSSubClass MSZoning  LotFrontage  LotArea Street Alley LotShape  \\\n",
       "197           75       RL        174.0    25419   Pave   NaN      Reg   \n",
       "809           20       RL         78.0    10140   Pave   NaN      Reg   \n",
       "1169          80       RL         76.0     9880   Pave   NaN      Reg   \n",
       "1181          60       RL        160.0    15623   Pave   NaN      IR1   \n",
       "1384          60       RL         80.0    16692   Pave   NaN      IR1   \n",
       "1421          80       RL          NaN    19690   Pave   NaN      IR1   \n",
       "1972          20       RL        106.0    12720   Pave   NaN      Reg   \n",
       "2418          20       RL         75.0     9532   Pave   NaN      Reg   \n",
       "2501          50       RL        104.0    23920   Pave   NaN      Reg   \n",
       "2571          20       RL         70.0    18044   Pave   NaN      IR1   \n",
       "2597          20       RL        200.0    43500   Pave   NaN      Reg   \n",
       "2708          80       RL        100.0    14330   Pave   NaN      IR1   \n",
       "\n",
       "     LandContour Utilities LotConfig LandSlope Neighborhood Condition1  \\\n",
       "197          Lvl    AllPub    Corner       Gtl        NAmes     Artery   \n",
       "809          Lvl    AllPub    Inside       Gtl       NWAmes       Norm   \n",
       "1169         Lvl    AllPub    Inside       Gtl      Mitchel       Norm   \n",
       "1181         Lvl    AllPub    Corner       Gtl      NoRidge       Norm   \n",
       "1384         Lvl    AllPub    Inside       Gtl       NWAmes       RRAn   \n",
       "1421         Lvl    AllPub   CulDSac       Gtl      Edwards       Norm   \n",
       "1972         HLS    AllPub    Inside       Mod      NridgHt       Norm   \n",
       "2418         Lvl    AllPub    Inside       Gtl        NAmes       Norm   \n",
       "2501         Lvl    AllPub    Inside       Gtl      SawyerW      Feedr   \n",
       "2571         HLS    AllPub   CulDSac       Gtl      Crawfor       Norm   \n",
       "2597         Lvl    AllPub    Inside       Gtl      Mitchel     Artery   \n",
       "2708         Low    AllPub    Corner       Gtl      Veenker       Norm   \n",
       "\n",
       "     Condition2 BldgType HouseStyle  OverallQual  OverallCond  YearBuilt  \\\n",
       "197        Norm     1Fam     2Story            8            4       1918   \n",
       "809        Norm     1Fam     1Story            6            6       1974   \n",
       "1169       Norm     1Fam       SLvl            6            6       1977   \n",
       "1181       Norm     1Fam     2Story           10            5       1996   \n",
       "1384       Norm     1Fam     2Story            7            5       1978   \n",
       "1421       Norm     1Fam       SLvl            6            7       1966   \n",
       "1972       Norm     1Fam     1Story           10            5       2003   \n",
       "2418       Norm     1Fam     1Story            4            6       1953   \n",
       "2501       Norm     1Fam     1.5Fin            6            5       1984   \n",
       "2571       Norm     1Fam     1Story            8            5       1986   \n",
       "2597       Norm     1Fam     1Story            3            5       1953   \n",
       "2708       Norm     1Fam       SLvl            7            4       1974   \n",
       "\n",
       "      YearRemodAdd RoofStyle RoofMatl Exterior1st Exterior2nd MasVnrType  \\\n",
       "197           1990     Gable  CompShg      Stucco      Stucco       None   \n",
       "809           1999       Hip  CompShg     HdBoard     HdBoard    BrkFace   \n",
       "1169          1977     Gable  CompShg     Plywood     Plywood       None   \n",
       "1181          1996       Hip  CompShg     Wd Sdng     ImStucc       None   \n",
       "1384          1978     Gable  CompShg     Plywood     Plywood    BrkFace   \n",
       "1421          1966      Flat  Tar&Grv     Plywood     Plywood       None   \n",
       "1972          2003       Hip  CompShg     MetalSd     MetalSd      Stone   \n",
       "2418          1953     Gable  CompShg     VinylSd     VinylSd       None   \n",
       "2501          1984     Gable  CompShg     Wd Sdng     Wd Sdng       None   \n",
       "2571          1986     Gable  CompShg     WdShing     Plywood       None   \n",
       "2597          1953     Gable  CompShg     MetalSd     MetalSd       None   \n",
       "2708          1974     Gable  CompShg     WdShing     Wd Sdng    BrkFace   \n",
       "\n",
       "      MasVnrArea ExterQual ExterCond Foundation BsmtQual BsmtCond  \\\n",
       "197          0.0        Gd        Gd      PConc       TA       TA   \n",
       "809         99.0        TA        TA     CBlock       TA       TA   \n",
       "1169         0.0        TA        TA     CBlock       TA       TA   \n",
       "1181         0.0        Gd        TA      PConc       Ex       TA   \n",
       "1384       184.0        TA        TA     CBlock       Gd       TA   \n",
       "1421         0.0        Gd        Gd     CBlock       Gd       TA   \n",
       "1972       680.0        Ex        TA      PConc       Ex       TA   \n",
       "2418         0.0        TA        TA     CBlock       TA       TA   \n",
       "2501         0.0        TA        TA     CBlock       TA       TA   \n",
       "2571         0.0        Gd        TA     CBlock       Gd       TA   \n",
       "2597         0.0        TA        TA     CBlock      NaN      NaN   \n",
       "2708       145.0        Gd        Fa     CBlock       Gd       TA   \n",
       "\n",
       "     BsmtExposure BsmtFinType1  BsmtFinSF1 BsmtFinType2  BsmtFinSF2  \\\n",
       "197            No          GLQ      1036.0          LwQ       184.0   \n",
       "809            No          ALQ       663.0          LwQ       377.0   \n",
       "1169           Av          ALQ       522.0          Unf         0.0   \n",
       "1181           Av          GLQ      2096.0          Unf         0.0   \n",
       "1384           No          BLQ       790.0          LwQ       469.0   \n",
       "1421           Av          Unf         0.0          Unf         0.0   \n",
       "1972           Gd          GLQ      2257.0          Unf         0.0   \n",
       "2418           No          BLQ       595.0          Rec       354.0   \n",
       "2501           No          Unf         0.0          Unf         0.0   \n",
       "2571           No          Unf         0.0          Unf         0.0   \n",
       "2597          NaN          NaN         0.0          NaN         0.0   \n",
       "2708           Gd          ALQ      1023.0          BLQ       497.0   \n",
       "\n",
       "      BsmtUnfSF  TotalBsmtSF Heating HeatingQC CentralAir Electrical  \\\n",
       "197       140.0       1360.0    GasA        Gd          Y      SBrkr   \n",
       "809         0.0       1040.0    GasA        Fa          Y      SBrkr   \n",
       "1169      574.0       1096.0    GasA        TA          Y      SBrkr   \n",
       "1181      300.0       2396.0    GasA        Ex          Y      SBrkr   \n",
       "1384      133.0       1392.0    GasA        TA          Y      SBrkr   \n",
       "1421      697.0        697.0    GasA        TA          Y      SBrkr   \n",
       "1972      278.0       2535.0    GasA        Ex          Y      SBrkr   \n",
       "2418      156.0       1105.0    GasA        Gd          Y      SBrkr   \n",
       "2501     1105.0       1105.0    GasA        Ex          Y      SBrkr   \n",
       "2571      279.0        279.0    GasA        Gd          Y      SBrkr   \n",
       "2597        0.0          0.0    GasA        Ex          Y      SBrkr   \n",
       "2708      228.0       1748.0    GasA        Gd          Y      SBrkr   \n",
       "\n",
       "      1stFlrSF  2ndFlrSF  LowQualFinSF  GrLivArea  BsmtFullBath  BsmtHalfBath  \\\n",
       "197       1360      1360           392       3112           1.0           1.0   \n",
       "809       1309         0             0       1309           1.0           0.0   \n",
       "1169      1118         0             0       1118           1.0           0.0   \n",
       "1181      2411      2065             0       4476           1.0           0.0   \n",
       "1384      1392      1392             0       2784           1.0           0.0   \n",
       "1421      1575       626             0       2201           0.0           0.0   \n",
       "1972      2470         0             0       2470           2.0           0.0   \n",
       "2418      1647         0             0       1647           1.0           0.0   \n",
       "2501      1105       717             0       1822           0.0           0.0   \n",
       "2571      2726         0             0       2726           0.0           0.0   \n",
       "2597      2034         0             0       2034           0.0           0.0   \n",
       "2708      2151       495             0       2646           1.0           2.0   \n",
       "\n",
       "      FullBath  HalfBath  BedroomAbvGr  KitchenAbvGr KitchenQual  \\\n",
       "197          2         0             4             1          Gd   \n",
       "809          1         1             3             1          Gd   \n",
       "1169         1         0             3             1          TA   \n",
       "1181         3         1             4             1          Ex   \n",
       "1384         3         1             5             1          Gd   \n",
       "1421         2         0             4             1          Gd   \n",
       "1972         1         1             1             1          Ex   \n",
       "2418         1         0             3             1          TA   \n",
       "2501         2         0             4             1          Gd   \n",
       "2571         2         1             2             1          Gd   \n",
       "2597         1         0             2             1          TA   \n",
       "2708         2         0             3             1          Gd   \n",
       "\n",
       "      TotRmsAbvGrd Functional  Fireplaces FireplaceQu GarageType  GarageYrBlt  \\\n",
       "197              8        Typ           1          Ex     Detchd       1918.0   \n",
       "809              5        Typ           1          Fa     Attchd       1974.0   \n",
       "1169             6        Typ           1          Po     Attchd       1977.0   \n",
       "1181            10        Typ           2          TA     Attchd       1996.0   \n",
       "1384            12        Typ           2          TA     Attchd       1978.0   \n",
       "1421             8        Typ           1          Gd     Attchd       1966.0   \n",
       "1972             7        Typ           2          Gd     Attchd       2003.0   \n",
       "2418             6       Min1           1          Fa     Attchd       1953.0   \n",
       "2501             7       Min2           1          Po     Attchd       1984.0   \n",
       "2571             6        Typ           1          Gd     Attchd       1986.0   \n",
       "2597             9       Min1           0         NaN     2Types       1953.0   \n",
       "2708             9        Mod           4          TA     Attchd       1974.0   \n",
       "\n",
       "     GarageFinish  GarageCars  GarageArea GarageQual GarageCond PavedDrive  \\\n",
       "197           Unf         2.0       795.0         TA         TA          Y   \n",
       "809           RFn         2.0       484.0         TA         TA          Y   \n",
       "1169          Fin         1.0       358.0         TA         TA          Y   \n",
       "1181          Fin         3.0       813.0         TA         TA          Y   \n",
       "1384          RFn         2.0       564.0         TA         TA          Y   \n",
       "1421          Unf         2.0       432.0         Gd         Gd          Y   \n",
       "1972          Fin         3.0       789.0         TA         TA          Y   \n",
       "2418          Fin         1.0       280.0         TA         TA          Y   \n",
       "2501          Unf         2.0       515.0         TA         TA          P   \n",
       "2571          Fin         2.0       691.0         Gd         Gd          Y   \n",
       "2597          RFn         4.0      1041.0         TA         TA          N   \n",
       "2708          RFn         2.0       550.0         TA         TA          Y   \n",
       "\n",
       "      WoodDeckSF  OpenPorchSF  EnclosedPorch  3SsnPorch  ScreenPorch  \\\n",
       "197            0           16            552          0            0   \n",
       "809          265            0              0          0            0   \n",
       "1169         203            0              0          0            0   \n",
       "1181         171           78              0          0            0   \n",
       "1384           0          112              0          0          440   \n",
       "1421         586          236              0          0            0   \n",
       "1972         154           65              0          0          216   \n",
       "2418         225            0              0          0            0   \n",
       "2501           0          195           1012          0            0   \n",
       "2571         216           64            169          0            0   \n",
       "2597         483          266              0          0            0   \n",
       "2708         641          100              0          0            0   \n",
       "\n",
       "      PoolArea PoolQC  Fence MiscFeature  MiscVal  MoSold  YrSold SaleType  \\\n",
       "197        512     Ex  GdPrv         NaN        0       3    2006       WD   \n",
       "809        648     Fa  GdPrv         NaN        0       1    2006       WD   \n",
       "1169       576     Gd  GdPrv         NaN        0       7    2008       WD   \n",
       "1181       555     Ex  MnPrv         NaN        0       7    2007       WD   \n",
       "1384       519     Fa  MnPrv        TenC     2000       7    2006       WD   \n",
       "1421       738     Gd  GdPrv         NaN        0       8    2006       WD   \n",
       "1972       144     Ex    NaN         NaN        0       2    2008       WD   \n",
       "2418       368    NaN  GdPrv         NaN        0       2    2007       WD   \n",
       "2501       444    NaN    NaN         NaN        0       4    2007       WD   \n",
       "2571       228     Ex    NaN         NaN        0       8    2007       WD   \n",
       "2597       561    NaN  GdPrv         NaN        0       6    2007       WD   \n",
       "2708       800     Gd  GdPrv         NaN        0       1    2006       WD   \n",
       "\n",
       "     SaleCondition  \n",
       "197        Abnorml  \n",
       "809         Normal  \n",
       "1169        Normal  \n",
       "1181       Abnorml  \n",
       "1384        Normal  \n",
       "1421        Alloca  \n",
       "1972        Normal  \n",
       "2418        Normal  \n",
       "2501        Normal  \n",
       "2571        Normal  \n",
       "2597        Normal  \n",
       "2708        Normal  "
      ]
     },
     "execution_count": 24,
     "metadata": {},
     "output_type": "execute_result"
    }
   ],
   "source": [
    "pd.set_option('max_columns', None)\n",
    "total_features[total_features['PoolArea'] > 0 & total_features['PoolQC'].isnull()]"
   ]
  },
  {
   "cell_type": "code",
   "execution_count": 25,
   "metadata": {
    "_uuid": "755f2261b7a3238ab3aa1f77464b751d0ffa6b24",
    "execution": {
     "iopub.execute_input": "2020-09-13T13:38:54.019301Z",
     "iopub.status.busy": "2020-09-13T13:38:54.018602Z",
     "iopub.status.idle": "2020-09-13T13:38:54.021306Z",
     "shell.execute_reply": "2020-09-13T13:38:54.021773Z"
    },
    "papermill": {
     "duration": 0.071367,
     "end_time": "2020-09-13T13:38:54.021922",
     "exception": false,
     "start_time": "2020-09-13T13:38:53.950555",
     "status": "completed"
    },
    "tags": []
   },
   "outputs": [],
   "source": [
    "total_features.loc[2418, 'PoolQC'] = 'Fa'\n",
    "total_features.loc[2501, 'PoolQC'] = 'Gd'\n",
    "total_features.loc[2597, 'PoolQC'] = 'Fa'"
   ]
  },
  {
   "cell_type": "code",
   "execution_count": 26,
   "metadata": {
    "_uuid": "57bef5d9d38aac041d6bd435bc401a19ee314494",
    "execution": {
     "iopub.execute_input": "2020-09-13T13:38:54.203971Z",
     "iopub.status.busy": "2020-09-13T13:38:54.175338Z",
     "iopub.status.idle": "2020-09-13T13:38:54.209381Z",
     "shell.execute_reply": "2020-09-13T13:38:54.208729Z"
    },
    "papermill": {
     "duration": 0.125978,
     "end_time": "2020-09-13T13:38:54.209494",
     "exception": false,
     "start_time": "2020-09-13T13:38:54.083516",
     "status": "completed"
    },
    "tags": []
   },
   "outputs": [
    {
     "data": {
      "text/html": [
       "<div>\n",
       "<style scoped>\n",
       "    .dataframe tbody tr th:only-of-type {\n",
       "        vertical-align: middle;\n",
       "    }\n",
       "\n",
       "    .dataframe tbody tr th {\n",
       "        vertical-align: top;\n",
       "    }\n",
       "\n",
       "    .dataframe thead th {\n",
       "        text-align: right;\n",
       "    }\n",
       "</style>\n",
       "<table border=\"1\" class=\"dataframe\">\n",
       "  <thead>\n",
       "    <tr style=\"text-align: right;\">\n",
       "      <th></th>\n",
       "      <th>MSSubClass</th>\n",
       "      <th>MSZoning</th>\n",
       "      <th>LotFrontage</th>\n",
       "      <th>LotArea</th>\n",
       "      <th>Street</th>\n",
       "      <th>Alley</th>\n",
       "      <th>LotShape</th>\n",
       "      <th>LandContour</th>\n",
       "      <th>Utilities</th>\n",
       "      <th>LotConfig</th>\n",
       "      <th>LandSlope</th>\n",
       "      <th>Neighborhood</th>\n",
       "      <th>Condition1</th>\n",
       "      <th>Condition2</th>\n",
       "      <th>BldgType</th>\n",
       "      <th>HouseStyle</th>\n",
       "      <th>OverallQual</th>\n",
       "      <th>OverallCond</th>\n",
       "      <th>YearBuilt</th>\n",
       "      <th>YearRemodAdd</th>\n",
       "      <th>RoofStyle</th>\n",
       "      <th>RoofMatl</th>\n",
       "      <th>Exterior1st</th>\n",
       "      <th>Exterior2nd</th>\n",
       "      <th>MasVnrType</th>\n",
       "      <th>MasVnrArea</th>\n",
       "      <th>ExterQual</th>\n",
       "      <th>ExterCond</th>\n",
       "      <th>Foundation</th>\n",
       "      <th>BsmtQual</th>\n",
       "      <th>BsmtCond</th>\n",
       "      <th>BsmtExposure</th>\n",
       "      <th>BsmtFinType1</th>\n",
       "      <th>BsmtFinSF1</th>\n",
       "      <th>BsmtFinType2</th>\n",
       "      <th>BsmtFinSF2</th>\n",
       "      <th>BsmtUnfSF</th>\n",
       "      <th>TotalBsmtSF</th>\n",
       "      <th>Heating</th>\n",
       "      <th>HeatingQC</th>\n",
       "      <th>CentralAir</th>\n",
       "      <th>Electrical</th>\n",
       "      <th>1stFlrSF</th>\n",
       "      <th>2ndFlrSF</th>\n",
       "      <th>LowQualFinSF</th>\n",
       "      <th>GrLivArea</th>\n",
       "      <th>BsmtFullBath</th>\n",
       "      <th>BsmtHalfBath</th>\n",
       "      <th>FullBath</th>\n",
       "      <th>HalfBath</th>\n",
       "      <th>BedroomAbvGr</th>\n",
       "      <th>KitchenAbvGr</th>\n",
       "      <th>KitchenQual</th>\n",
       "      <th>TotRmsAbvGrd</th>\n",
       "      <th>Functional</th>\n",
       "      <th>Fireplaces</th>\n",
       "      <th>FireplaceQu</th>\n",
       "      <th>GarageType</th>\n",
       "      <th>GarageYrBlt</th>\n",
       "      <th>GarageFinish</th>\n",
       "      <th>GarageCars</th>\n",
       "      <th>GarageArea</th>\n",
       "      <th>GarageQual</th>\n",
       "      <th>GarageCond</th>\n",
       "      <th>PavedDrive</th>\n",
       "      <th>WoodDeckSF</th>\n",
       "      <th>OpenPorchSF</th>\n",
       "      <th>EnclosedPorch</th>\n",
       "      <th>3SsnPorch</th>\n",
       "      <th>ScreenPorch</th>\n",
       "      <th>PoolArea</th>\n",
       "      <th>PoolQC</th>\n",
       "      <th>Fence</th>\n",
       "      <th>MiscFeature</th>\n",
       "      <th>MiscVal</th>\n",
       "      <th>MoSold</th>\n",
       "      <th>YrSold</th>\n",
       "      <th>SaleType</th>\n",
       "      <th>SaleCondition</th>\n",
       "    </tr>\n",
       "  </thead>\n",
       "  <tbody>\n",
       "    <tr>\n",
       "      <th>2124</th>\n",
       "      <td>60</td>\n",
       "      <td>RM</td>\n",
       "      <td>57.0</td>\n",
       "      <td>8094</td>\n",
       "      <td>Pave</td>\n",
       "      <td>Grvl</td>\n",
       "      <td>Reg</td>\n",
       "      <td>Lvl</td>\n",
       "      <td>AllPub</td>\n",
       "      <td>Inside</td>\n",
       "      <td>Gtl</td>\n",
       "      <td>OldTown</td>\n",
       "      <td>Norm</td>\n",
       "      <td>Norm</td>\n",
       "      <td>2fmCon</td>\n",
       "      <td>2.5Unf</td>\n",
       "      <td>6</td>\n",
       "      <td>8</td>\n",
       "      <td>1910</td>\n",
       "      <td>1983</td>\n",
       "      <td>Gable</td>\n",
       "      <td>CompShg</td>\n",
       "      <td>Wd Sdng</td>\n",
       "      <td>Wd Sdng</td>\n",
       "      <td>None</td>\n",
       "      <td>0.0</td>\n",
       "      <td>TA</td>\n",
       "      <td>TA</td>\n",
       "      <td>PConc</td>\n",
       "      <td>TA</td>\n",
       "      <td>TA</td>\n",
       "      <td>Mn</td>\n",
       "      <td>Rec</td>\n",
       "      <td>196.0</td>\n",
       "      <td>Unf</td>\n",
       "      <td>0.0</td>\n",
       "      <td>1046.0</td>\n",
       "      <td>1242.0</td>\n",
       "      <td>GasA</td>\n",
       "      <td>Gd</td>\n",
       "      <td>Y</td>\n",
       "      <td>SBrkr</td>\n",
       "      <td>1242</td>\n",
       "      <td>742</td>\n",
       "      <td>0</td>\n",
       "      <td>1984</td>\n",
       "      <td>0.0</td>\n",
       "      <td>0.0</td>\n",
       "      <td>2</td>\n",
       "      <td>0</td>\n",
       "      <td>5</td>\n",
       "      <td>1</td>\n",
       "      <td>TA</td>\n",
       "      <td>8</td>\n",
       "      <td>Typ</td>\n",
       "      <td>0</td>\n",
       "      <td>NaN</td>\n",
       "      <td>Detchd</td>\n",
       "      <td>NaN</td>\n",
       "      <td>NaN</td>\n",
       "      <td>1.0</td>\n",
       "      <td>360.0</td>\n",
       "      <td>NaN</td>\n",
       "      <td>NaN</td>\n",
       "      <td>Y</td>\n",
       "      <td>64</td>\n",
       "      <td>0</td>\n",
       "      <td>180</td>\n",
       "      <td>0</td>\n",
       "      <td>0</td>\n",
       "      <td>0</td>\n",
       "      <td>NaN</td>\n",
       "      <td>MnPrv</td>\n",
       "      <td>Shed</td>\n",
       "      <td>1000</td>\n",
       "      <td>9</td>\n",
       "      <td>2008</td>\n",
       "      <td>WD</td>\n",
       "      <td>Normal</td>\n",
       "    </tr>\n",
       "    <tr>\n",
       "      <th>2574</th>\n",
       "      <td>70</td>\n",
       "      <td>RM</td>\n",
       "      <td>50.0</td>\n",
       "      <td>9060</td>\n",
       "      <td>Pave</td>\n",
       "      <td>NaN</td>\n",
       "      <td>Reg</td>\n",
       "      <td>Lvl</td>\n",
       "      <td>AllPub</td>\n",
       "      <td>Inside</td>\n",
       "      <td>Gtl</td>\n",
       "      <td>IDOTRR</td>\n",
       "      <td>Norm</td>\n",
       "      <td>Norm</td>\n",
       "      <td>1Fam</td>\n",
       "      <td>2Story</td>\n",
       "      <td>5</td>\n",
       "      <td>6</td>\n",
       "      <td>1923</td>\n",
       "      <td>1999</td>\n",
       "      <td>Gable</td>\n",
       "      <td>CompShg</td>\n",
       "      <td>Wd Sdng</td>\n",
       "      <td>Plywood</td>\n",
       "      <td>None</td>\n",
       "      <td>0.0</td>\n",
       "      <td>TA</td>\n",
       "      <td>TA</td>\n",
       "      <td>BrkTil</td>\n",
       "      <td>Gd</td>\n",
       "      <td>TA</td>\n",
       "      <td>No</td>\n",
       "      <td>ALQ</td>\n",
       "      <td>548.0</td>\n",
       "      <td>Unf</td>\n",
       "      <td>0.0</td>\n",
       "      <td>311.0</td>\n",
       "      <td>859.0</td>\n",
       "      <td>GasA</td>\n",
       "      <td>Ex</td>\n",
       "      <td>Y</td>\n",
       "      <td>SBrkr</td>\n",
       "      <td>942</td>\n",
       "      <td>886</td>\n",
       "      <td>0</td>\n",
       "      <td>1828</td>\n",
       "      <td>0.0</td>\n",
       "      <td>0.0</td>\n",
       "      <td>2</td>\n",
       "      <td>0</td>\n",
       "      <td>3</td>\n",
       "      <td>1</td>\n",
       "      <td>Gd</td>\n",
       "      <td>6</td>\n",
       "      <td>Typ</td>\n",
       "      <td>0</td>\n",
       "      <td>NaN</td>\n",
       "      <td>Detchd</td>\n",
       "      <td>NaN</td>\n",
       "      <td>NaN</td>\n",
       "      <td>NaN</td>\n",
       "      <td>NaN</td>\n",
       "      <td>NaN</td>\n",
       "      <td>NaN</td>\n",
       "      <td>Y</td>\n",
       "      <td>174</td>\n",
       "      <td>0</td>\n",
       "      <td>212</td>\n",
       "      <td>0</td>\n",
       "      <td>0</td>\n",
       "      <td>0</td>\n",
       "      <td>NaN</td>\n",
       "      <td>MnPrv</td>\n",
       "      <td>NaN</td>\n",
       "      <td>0</td>\n",
       "      <td>3</td>\n",
       "      <td>2007</td>\n",
       "      <td>WD</td>\n",
       "      <td>Alloca</td>\n",
       "    </tr>\n",
       "  </tbody>\n",
       "</table>\n",
       "</div>"
      ],
      "text/plain": [
       "      MSSubClass MSZoning  LotFrontage  LotArea Street Alley LotShape  \\\n",
       "2124          60       RM         57.0     8094   Pave  Grvl      Reg   \n",
       "2574          70       RM         50.0     9060   Pave   NaN      Reg   \n",
       "\n",
       "     LandContour Utilities LotConfig LandSlope Neighborhood Condition1  \\\n",
       "2124         Lvl    AllPub    Inside       Gtl      OldTown       Norm   \n",
       "2574         Lvl    AllPub    Inside       Gtl       IDOTRR       Norm   \n",
       "\n",
       "     Condition2 BldgType HouseStyle  OverallQual  OverallCond  YearBuilt  \\\n",
       "2124       Norm   2fmCon     2.5Unf            6            8       1910   \n",
       "2574       Norm     1Fam     2Story            5            6       1923   \n",
       "\n",
       "      YearRemodAdd RoofStyle RoofMatl Exterior1st Exterior2nd MasVnrType  \\\n",
       "2124          1983     Gable  CompShg     Wd Sdng     Wd Sdng       None   \n",
       "2574          1999     Gable  CompShg     Wd Sdng     Plywood       None   \n",
       "\n",
       "      MasVnrArea ExterQual ExterCond Foundation BsmtQual BsmtCond  \\\n",
       "2124         0.0        TA        TA      PConc       TA       TA   \n",
       "2574         0.0        TA        TA     BrkTil       Gd       TA   \n",
       "\n",
       "     BsmtExposure BsmtFinType1  BsmtFinSF1 BsmtFinType2  BsmtFinSF2  \\\n",
       "2124           Mn          Rec       196.0          Unf         0.0   \n",
       "2574           No          ALQ       548.0          Unf         0.0   \n",
       "\n",
       "      BsmtUnfSF  TotalBsmtSF Heating HeatingQC CentralAir Electrical  \\\n",
       "2124     1046.0       1242.0    GasA        Gd          Y      SBrkr   \n",
       "2574      311.0        859.0    GasA        Ex          Y      SBrkr   \n",
       "\n",
       "      1stFlrSF  2ndFlrSF  LowQualFinSF  GrLivArea  BsmtFullBath  BsmtHalfBath  \\\n",
       "2124      1242       742             0       1984           0.0           0.0   \n",
       "2574       942       886             0       1828           0.0           0.0   \n",
       "\n",
       "      FullBath  HalfBath  BedroomAbvGr  KitchenAbvGr KitchenQual  \\\n",
       "2124         2         0             5             1          TA   \n",
       "2574         2         0             3             1          Gd   \n",
       "\n",
       "      TotRmsAbvGrd Functional  Fireplaces FireplaceQu GarageType  GarageYrBlt  \\\n",
       "2124             8        Typ           0         NaN     Detchd          NaN   \n",
       "2574             6        Typ           0         NaN     Detchd          NaN   \n",
       "\n",
       "     GarageFinish  GarageCars  GarageArea GarageQual GarageCond PavedDrive  \\\n",
       "2124          NaN         1.0       360.0        NaN        NaN          Y   \n",
       "2574          NaN         NaN         NaN        NaN        NaN          Y   \n",
       "\n",
       "      WoodDeckSF  OpenPorchSF  EnclosedPorch  3SsnPorch  ScreenPorch  \\\n",
       "2124          64            0            180          0            0   \n",
       "2574         174            0            212          0            0   \n",
       "\n",
       "      PoolArea PoolQC  Fence MiscFeature  MiscVal  MoSold  YrSold SaleType  \\\n",
       "2124         0    NaN  MnPrv        Shed     1000       9    2008       WD   \n",
       "2574         0    NaN  MnPrv         NaN        0       3    2007       WD   \n",
       "\n",
       "     SaleCondition  \n",
       "2124        Normal  \n",
       "2574        Alloca  "
      ]
     },
     "execution_count": 26,
     "metadata": {},
     "output_type": "execute_result"
    }
   ],
   "source": [
    "pd.set_option('max_columns', None)\n",
    "total_features[(total_features['GarageType'] == 'Detchd') & total_features['GarageYrBlt'].isnull()]"
   ]
  },
  {
   "cell_type": "code",
   "execution_count": 27,
   "metadata": {
    "_uuid": "61342f52e82689ace237f7c82739775b36da0b72",
    "execution": {
     "iopub.execute_input": "2020-09-13T13:38:54.345030Z",
     "iopub.status.busy": "2020-09-13T13:38:54.344198Z",
     "iopub.status.idle": "2020-09-13T13:38:54.358934Z",
     "shell.execute_reply": "2020-09-13T13:38:54.358350Z"
    },
    "papermill": {
     "duration": 0.087768,
     "end_time": "2020-09-13T13:38:54.359092",
     "exception": false,
     "start_time": "2020-09-13T13:38:54.271324",
     "status": "completed"
    },
    "tags": []
   },
   "outputs": [],
   "source": [
    "total_features.loc[2124, 'GarageYrBlt'] = total_features['GarageYrBlt'].median()\n",
    "total_features.loc[2574, 'GarageYrBlt'] = total_features['GarageYrBlt'].median()\n",
    "\n",
    "total_features.loc[2124, 'GarageFinish'] = total_features['GarageFinish'].mode()[0]\n",
    "total_features.loc[2574, 'GarageFinish'] = total_features['GarageFinish'].mode()[0]\n",
    "\n",
    "total_features.loc[2574, 'GarageCars'] = total_features['GarageCars'].median()\n",
    "\n",
    "total_features.loc[2124, 'GarageArea'] = total_features['GarageArea'].median()\n",
    "total_features.loc[2574, 'GarageArea'] = total_features['GarageArea'].median()\n",
    "\n",
    "total_features.loc[2124, 'GarageQual'] = total_features['GarageQual'].mode()[0]\n",
    "total_features.loc[2574, 'GarageQual'] = total_features['GarageQual'].mode()[0]\n",
    "\n",
    "total_features.loc[2124, 'GarageCond'] = total_features['GarageCond'].mode()[0]\n",
    "total_features.loc[2574, 'GarageCond'] = total_features['GarageCond'].mode()[0]"
   ]
  },
  {
   "cell_type": "code",
   "execution_count": 28,
   "metadata": {
    "_uuid": "0592fe9615337299e4d5d0e06da798c7a302b3d3",
    "execution": {
     "iopub.execute_input": "2020-09-13T13:38:54.496761Z",
     "iopub.status.busy": "2020-09-13T13:38:54.496066Z",
     "iopub.status.idle": "2020-09-13T13:38:54.499261Z",
     "shell.execute_reply": "2020-09-13T13:38:54.498658Z"
    },
    "papermill": {
     "duration": 0.077984,
     "end_time": "2020-09-13T13:38:54.499430",
     "exception": false,
     "start_time": "2020-09-13T13:38:54.421446",
     "status": "completed"
    },
    "tags": []
   },
   "outputs": [],
   "source": [
    "# Basement Variables with NA, are now filled\n",
    "\n",
    "total_features.loc[332, 'BsmtFinType2'] = 'ALQ' #since smaller than SF1\n",
    "total_features.loc[947, 'BsmtExposure'] = 'No' \n",
    "total_features.loc[1485, 'BsmtExposure'] = 'No'\n",
    "total_features.loc[2038, 'BsmtCond'] = 'TA'\n",
    "total_features.loc[2183, 'BsmtCond'] = 'TA'\n",
    "total_features.loc[2215, 'BsmtQual'] = 'Po' #v small basement so let's do Poor.\n",
    "total_features.loc[2216, 'BsmtQual'] = 'Fa' #similar but a bit bigger.\n",
    "total_features.loc[2346, 'BsmtExposure'] = 'No' #unfinished bsmt so prob not.\n",
    "total_features.loc[2522, 'BsmtCond'] = 'Gd' #cause ALQ for bsmtfintype1"
   ]
  },
  {
   "cell_type": "code",
   "execution_count": 29,
   "metadata": {
    "_uuid": "6ff96d21d8f95eb9a4fbed67ab4855ed230e929a",
    "execution": {
     "iopub.execute_input": "2020-09-13T13:38:54.632315Z",
     "iopub.status.busy": "2020-09-13T13:38:54.631571Z",
     "iopub.status.idle": "2020-09-13T13:38:54.657638Z",
     "shell.execute_reply": "2020-09-13T13:38:54.657057Z"
    },
    "papermill": {
     "duration": 0.096228,
     "end_time": "2020-09-13T13:38:54.657750",
     "exception": false,
     "start_time": "2020-09-13T13:38:54.561522",
     "status": "completed"
    },
    "tags": []
   },
   "outputs": [],
   "source": [
    "subclass_group = total_features.groupby('MSSubClass')\n",
    "Zoning_modes = subclass_group['MSZoning'].apply(lambda x : x.mode()[0])\n",
    "total_features['MSZoning'] = total_features.groupby('MSSubClass')['MSZoning'].transform(lambda x: x.fillna(x.mode()[0]))"
   ]
  },
  {
   "cell_type": "code",
   "execution_count": 30,
   "metadata": {
    "_uuid": "1a85ed5d87d187488eec55886649a914bb2e3816",
    "execution": {
     "iopub.execute_input": "2020-09-13T13:38:54.792144Z",
     "iopub.status.busy": "2020-09-13T13:38:54.791478Z",
     "iopub.status.idle": "2020-09-13T13:38:54.806553Z",
     "shell.execute_reply": "2020-09-13T13:38:54.807058Z"
    },
    "papermill": {
     "duration": 0.087214,
     "end_time": "2020-09-13T13:38:54.807212",
     "exception": false,
     "start_time": "2020-09-13T13:38:54.719998",
     "status": "completed"
    },
    "tags": []
   },
   "outputs": [],
   "source": [
    "neighborhood_group = total_features.groupby('Neighborhood')\n",
    "lot_medians = neighborhood_group['LotFrontage'].median()\n",
    "total_features['LotFrontage'] = total_features.groupby('Neighborhood')['LotFrontage'].transform(lambda x: x.fillna(x.median()))"
   ]
  },
  {
   "cell_type": "code",
   "execution_count": 31,
   "metadata": {
    "_uuid": "c17447042e3359de4e739d5e2cd7d42cd8e33397",
    "execution": {
     "iopub.execute_input": "2020-09-13T13:38:54.936883Z",
     "iopub.status.busy": "2020-09-13T13:38:54.936077Z",
     "iopub.status.idle": "2020-09-13T13:38:55.116424Z",
     "shell.execute_reply": "2020-09-13T13:38:55.117172Z"
    },
    "papermill": {
     "duration": 0.247643,
     "end_time": "2020-09-13T13:38:55.117389",
     "exception": false,
     "start_time": "2020-09-13T13:38:54.869746",
     "status": "completed"
    },
    "scrolled": true,
    "tags": []
   },
   "outputs": [
    {
     "name": "stdout",
     "output_type": "stream",
     "text": [
      "           0       1\n",
      "Utilities  2  object\n",
      "There are 1 columns with missing values\n"
     ]
    }
   ],
   "source": [
    "#Filling in the rest of the NA's\n",
    "\n",
    "numeric_dtypes = ['int16', 'int32', 'int64', 'float16', 'float32', 'float64']\n",
    "numerics = []\n",
    "for i in total_features.columns:\n",
    "    if total_features[i].dtype in numeric_dtypes: \n",
    "        numerics.append(i)\n",
    "        \n",
    "total_features.update(total_features[numerics].fillna(0))\n",
    "\n",
    "# remaining columns \n",
    "\n",
    "columns = [\"PoolQC\" , \"MiscFeature\", \"Alley\", \"Fence\", \"FireplaceQu\", \"GarageQual\", \n",
    "         \"GarageCond\", \"GarageFinish\", \"GarageYrBlt\", \"GarageType\", \"BsmtExposure\", \n",
    "         \"BsmtCond\", \"BsmtQual\", \"BsmtFinType2\", \"BsmtFinType1\", \"MasVnrType\"]\n",
    "\n",
    "for col in columns:\n",
    "    total_features.update(total_features[col].fillna(\"None\", inplace=True))\n",
    "\n",
    "\n",
    "nulls = np.sum(total_features.isnull())\n",
    "nullcols = nulls.loc[(nulls != 0)]\n",
    "dtypes = total_features.dtypes\n",
    "dtypes2 = dtypes.loc[(nulls != 0)]\n",
    "info = pd.concat([nullcols, dtypes2], axis=1).sort_values(by=0, ascending=False)\n",
    "print(info)\n",
    "print(\"There are\", len(nullcols), \"columns with missing values\")"
   ]
  },
  {
   "cell_type": "code",
   "execution_count": 32,
   "metadata": {
    "_uuid": "0ac41ce6ba5a338863ed81d96afca47ba232b0bf",
    "execution": {
     "iopub.execute_input": "2020-09-13T13:38:55.253159Z",
     "iopub.status.busy": "2020-09-13T13:38:55.252235Z",
     "iopub.status.idle": "2020-09-13T13:38:55.254966Z",
     "shell.execute_reply": "2020-09-13T13:38:55.255467Z"
    },
    "papermill": {
     "duration": 0.074163,
     "end_time": "2020-09-13T13:38:55.255619",
     "exception": false,
     "start_time": "2020-09-13T13:38:55.181456",
     "status": "completed"
    },
    "tags": []
   },
   "outputs": [],
   "source": [
    "total_features = total_features.drop(['Utilities','Street'], axis=1)"
   ]
  },
  {
   "cell_type": "code",
   "execution_count": 33,
   "metadata": {
    "_uuid": "bd1c261ea8364e9dea9abb06cae432d32b45bfe0",
    "execution": {
     "iopub.execute_input": "2020-09-13T13:38:55.416600Z",
     "iopub.status.busy": "2020-09-13T13:38:55.415891Z",
     "iopub.status.idle": "2020-09-13T13:38:55.419104Z",
     "shell.execute_reply": "2020-09-13T13:38:55.419634Z"
    },
    "papermill": {
     "duration": 0.100566,
     "end_time": "2020-09-13T13:38:55.419791",
     "exception": false,
     "start_time": "2020-09-13T13:38:55.319225",
     "status": "completed"
    },
    "tags": []
   },
   "outputs": [],
   "source": [
    "#FEATURE ENGINEERING\n",
    "\n",
    "total_features['Total_sqr_footage'] = (total_features['BsmtFinSF1'] + total_features['BsmtFinSF2'] +\n",
    "                                 total_features['1stFlrSF'] + total_features['2ndFlrSF'])\n",
    "\n",
    "total_features['Total_Bathrooms'] = (total_features['FullBath'] + (0.5*total_features['HalfBath']) + \n",
    "                               total_features['BsmtFullBath'] + (0.5*total_features['BsmtHalfBath']))\n",
    "\n",
    "total_features['Total_porch_sf'] = (total_features['OpenPorchSF'] + total_features['3SsnPorch'] +\n",
    "                              total_features['EnclosedPorch'] + total_features['ScreenPorch'] +\n",
    "                             total_features['WoodDeckSF'])\n",
    "\n",
    "\n",
    "#simplified features\n",
    "total_features['haspool'] = total_features['PoolArea'].apply(lambda x: 1 if x > 0 else 0)\n",
    "total_features['has2ndfloor'] = total_features['2ndFlrSF'].apply(lambda x: 1 if x > 0 else 0)\n",
    "total_features['hasgarage'] = total_features['GarageArea'].apply(lambda x: 1 if x > 0 else 0)\n",
    "total_features['hasbsmt'] = total_features['TotalBsmtSF'].apply(lambda x: 1 if x > 0 else 0)\n",
    "total_features['hasfireplace'] = total_features['Fireplaces'].apply(lambda x: 1 if x > 0 else 0)"
   ]
  },
  {
   "cell_type": "code",
   "execution_count": 34,
   "metadata": {
    "_uuid": "2d18a4e28b7e30bc5516a93bf7610dd66d1c6f70",
    "execution": {
     "iopub.execute_input": "2020-09-13T13:38:55.602806Z",
     "iopub.status.busy": "2020-09-13T13:38:55.601776Z",
     "iopub.status.idle": "2020-09-13T13:38:55.606605Z",
     "shell.execute_reply": "2020-09-13T13:38:55.605928Z"
    },
    "papermill": {
     "duration": 0.073547,
     "end_time": "2020-09-13T13:38:55.606726",
     "exception": false,
     "start_time": "2020-09-13T13:38:55.533179",
     "status": "completed"
    },
    "tags": []
   },
   "outputs": [
    {
     "data": {
      "text/plain": [
       "(2917, 85)"
      ]
     },
     "execution_count": 34,
     "metadata": {},
     "output_type": "execute_result"
    }
   ],
   "source": [
    "total_features.shape"
   ]
  },
  {
   "cell_type": "code",
   "execution_count": 35,
   "metadata": {
    "_uuid": "f832e57ae9e0896af0410dc684bc4f90ee1eaa65",
    "execution": {
     "iopub.execute_input": "2020-09-13T13:38:55.741202Z",
     "iopub.status.busy": "2020-09-13T13:38:55.740558Z",
     "iopub.status.idle": "2020-09-13T13:38:55.796769Z",
     "shell.execute_reply": "2020-09-13T13:38:55.796223Z"
    },
    "papermill": {
     "duration": 0.125858,
     "end_time": "2020-09-13T13:38:55.796902",
     "exception": false,
     "start_time": "2020-09-13T13:38:55.671044",
     "status": "completed"
    },
    "tags": []
   },
   "outputs": [
    {
     "data": {
      "text/plain": [
       "(2917, 306)"
      ]
     },
     "execution_count": 35,
     "metadata": {},
     "output_type": "execute_result"
    }
   ],
   "source": [
    "final_features = pd.get_dummies(total_features).reset_index(drop=True)\n",
    "final_features.shape"
   ]
  },
  {
   "cell_type": "code",
   "execution_count": 36,
   "metadata": {
    "_uuid": "6a679daf329035ea54ddec55fbc7a8006b81d130",
    "execution": {
     "iopub.execute_input": "2020-09-13T13:38:55.934671Z",
     "iopub.status.busy": "2020-09-13T13:38:55.933894Z",
     "iopub.status.idle": "2020-09-13T13:38:55.937124Z",
     "shell.execute_reply": "2020-09-13T13:38:55.936481Z"
    },
    "papermill": {
     "duration": 0.074025,
     "end_time": "2020-09-13T13:38:55.937240",
     "exception": false,
     "start_time": "2020-09-13T13:38:55.863215",
     "status": "completed"
    },
    "tags": []
   },
   "outputs": [],
   "source": [
    "final_train_x = final_features.iloc[:len(train_y),:]\n",
    "final_test_x = final_features.iloc[len(final_train_x):,:] "
   ]
  },
  {
   "cell_type": "code",
   "execution_count": 37,
   "metadata": {
    "_uuid": "684e2fe09aed525800f3928df6a5aba2117cfd5f",
    "execution": {
     "iopub.execute_input": "2020-09-13T13:38:56.070833Z",
     "iopub.status.busy": "2020-09-13T13:38:56.069862Z",
     "iopub.status.idle": "2020-09-13T13:38:56.075219Z",
     "shell.execute_reply": "2020-09-13T13:38:56.075684Z"
    },
    "papermill": {
     "duration": 0.073657,
     "end_time": "2020-09-13T13:38:56.075839",
     "exception": false,
     "start_time": "2020-09-13T13:38:56.002182",
     "status": "completed"
    },
    "tags": []
   },
   "outputs": [
    {
     "data": {
      "text/plain": [
       "(1458, 306)"
      ]
     },
     "execution_count": 37,
     "metadata": {},
     "output_type": "execute_result"
    }
   ],
   "source": [
    "final_train_x.shape"
   ]
  },
  {
   "cell_type": "code",
   "execution_count": 38,
   "metadata": {
    "_uuid": "7510599f59cf14386045d718b262918f568d10ea",
    "execution": {
     "iopub.execute_input": "2020-09-13T13:38:56.211549Z",
     "iopub.status.busy": "2020-09-13T13:38:56.210561Z",
     "iopub.status.idle": "2020-09-13T13:38:56.216003Z",
     "shell.execute_reply": "2020-09-13T13:38:56.216489Z"
    },
    "papermill": {
     "duration": 0.07421,
     "end_time": "2020-09-13T13:38:56.216638",
     "exception": false,
     "start_time": "2020-09-13T13:38:56.142428",
     "status": "completed"
    },
    "tags": []
   },
   "outputs": [
    {
     "data": {
      "text/plain": [
       "(1459, 306)"
      ]
     },
     "execution_count": 38,
     "metadata": {},
     "output_type": "execute_result"
    }
   ],
   "source": [
    "final_test_x.shape"
   ]
  },
  {
   "cell_type": "markdown",
   "metadata": {
    "_uuid": "6473de2b000473d50c3616bb8d474b9ac390be78",
    "papermill": {
     "duration": 0.065085,
     "end_time": "2020-09-13T13:38:56.347658",
     "exception": false,
     "start_time": "2020-09-13T13:38:56.282573",
     "status": "completed"
    },
    "tags": []
   },
   "source": [
    "Apply TSNE "
   ]
  },
  {
   "cell_type": "code",
   "execution_count": 39,
   "metadata": {
    "_uuid": "4bd95a62f7fbd4d863ee0d8f0da0185a51f9dc67",
    "execution": {
     "iopub.execute_input": "2020-09-13T13:38:56.482366Z",
     "iopub.status.busy": "2020-09-13T13:38:56.481364Z",
     "iopub.status.idle": "2020-09-13T13:39:12.933790Z",
     "shell.execute_reply": "2020-09-13T13:39:12.934580Z"
    },
    "papermill": {
     "duration": 16.521705,
     "end_time": "2020-09-13T13:39:12.934768",
     "exception": false,
     "start_time": "2020-09-13T13:38:56.413063",
     "status": "completed"
    },
    "tags": []
   },
   "outputs": [
    {
     "name": "stdout",
     "output_type": "stream",
     "text": [
      "[t-SNE] Computing 91 nearest neighbors...\n",
      "[t-SNE] Indexed 1458 samples in 0.037s...\n",
      "[t-SNE] Computed neighbors for 1458 samples in 0.555s...\n",
      "[t-SNE] Computed conditional probabilities for sample 1000 / 1458\n",
      "[t-SNE] Computed conditional probabilities for sample 1458 / 1458\n",
      "[t-SNE] Mean sigma: 299.604414\n",
      "[t-SNE] Computed conditional probabilities in 0.142s\n",
      "[t-SNE] Iteration 50: error = 68.6806183, gradient norm = 0.1601083 (50 iterations in 0.499s)\n",
      "[t-SNE] Iteration 100: error = 64.8066864, gradient norm = 0.0582299 (50 iterations in 0.349s)\n",
      "[t-SNE] Iteration 150: error = 64.2376099, gradient norm = 0.0476874 (50 iterations in 0.365s)\n",
      "[t-SNE] Iteration 200: error = 64.0848923, gradient norm = 0.0436690 (50 iterations in 0.350s)\n",
      "[t-SNE] Iteration 250: error = 64.0105896, gradient norm = 0.0408548 (50 iterations in 0.528s)\n",
      "[t-SNE] KL divergence after 250 iterations with early exaggeration: 64.010590\n",
      "[t-SNE] Iteration 300: error = 0.8873256, gradient norm = 0.0008107 (50 iterations in 0.337s)\n",
      "[t-SNE] Iteration 350: error = 0.7658342, gradient norm = 0.0003277 (50 iterations in 0.351s)\n",
      "[t-SNE] Iteration 400: error = 0.7328615, gradient norm = 0.0002242 (50 iterations in 0.329s)\n",
      "[t-SNE] Iteration 450: error = 0.7205932, gradient norm = 0.0001577 (50 iterations in 0.355s)\n",
      "[t-SNE] Iteration 500: error = 0.7135215, gradient norm = 0.0001543 (50 iterations in 0.344s)\n",
      "[t-SNE] Iteration 550: error = 0.7089035, gradient norm = 0.0001148 (50 iterations in 0.343s)\n",
      "[t-SNE] Iteration 600: error = 0.7059691, gradient norm = 0.0001086 (50 iterations in 0.347s)\n",
      "[t-SNE] Iteration 650: error = 0.7038710, gradient norm = 0.0000996 (50 iterations in 0.346s)\n",
      "[t-SNE] Iteration 700: error = 0.7022278, gradient norm = 0.0000811 (50 iterations in 0.342s)\n",
      "[t-SNE] Iteration 750: error = 0.7007363, gradient norm = 0.0000763 (50 iterations in 0.358s)\n",
      "[t-SNE] Iteration 800: error = 0.6995009, gradient norm = 0.0000674 (50 iterations in 0.352s)\n",
      "[t-SNE] Iteration 850: error = 0.6985136, gradient norm = 0.0000641 (50 iterations in 0.345s)\n",
      "[t-SNE] Iteration 900: error = 0.6976575, gradient norm = 0.0000607 (50 iterations in 0.344s)\n",
      "[t-SNE] Iteration 950: error = 0.6969541, gradient norm = 0.0000713 (50 iterations in 0.351s)\n",
      "[t-SNE] Iteration 1000: error = 0.6962666, gradient norm = 0.0000563 (50 iterations in 0.365s)\n",
      "[t-SNE] KL divergence after 1000 iterations: 0.696267\n",
      "[t-SNE] Computing 91 nearest neighbors...\n",
      "[t-SNE] Indexed 1459 samples in 0.049s...\n",
      "[t-SNE] Computed neighbors for 1459 samples in 0.588s...\n",
      "[t-SNE] Computed conditional probabilities for sample 1000 / 1459\n",
      "[t-SNE] Computed conditional probabilities for sample 1459 / 1459\n",
      "[t-SNE] Mean sigma: 297.973874\n",
      "[t-SNE] Computed conditional probabilities in 0.137s\n",
      "[t-SNE] Iteration 50: error = 68.7751160, gradient norm = 0.1398579 (50 iterations in 0.518s)\n",
      "[t-SNE] Iteration 100: error = 65.0542145, gradient norm = 0.0477081 (50 iterations in 0.346s)\n",
      "[t-SNE] Iteration 150: error = 64.7480011, gradient norm = 0.0508592 (50 iterations in 0.350s)\n",
      "[t-SNE] Iteration 200: error = 64.7463074, gradient norm = 0.0417429 (50 iterations in 0.353s)\n",
      "[t-SNE] Iteration 250: error = 64.5948792, gradient norm = 0.0393466 (50 iterations in 0.375s)\n",
      "[t-SNE] KL divergence after 250 iterations with early exaggeration: 64.594879\n",
      "[t-SNE] Iteration 300: error = 0.9497582, gradient norm = 0.0008352 (50 iterations in 0.346s)\n",
      "[t-SNE] Iteration 350: error = 0.8164849, gradient norm = 0.0003852 (50 iterations in 0.344s)\n",
      "[t-SNE] Iteration 400: error = 0.7811887, gradient norm = 0.0002550 (50 iterations in 0.341s)\n",
      "[t-SNE] Iteration 450: error = 0.7668397, gradient norm = 0.0001856 (50 iterations in 0.353s)\n",
      "[t-SNE] Iteration 500: error = 0.7599904, gradient norm = 0.0001232 (50 iterations in 0.357s)\n",
      "[t-SNE] Iteration 550: error = 0.7556263, gradient norm = 0.0001565 (50 iterations in 0.352s)\n",
      "[t-SNE] Iteration 600: error = 0.7521667, gradient norm = 0.0000935 (50 iterations in 0.358s)\n",
      "[t-SNE] Iteration 650: error = 0.7497176, gradient norm = 0.0000795 (50 iterations in 0.511s)\n",
      "[t-SNE] Iteration 700: error = 0.7478195, gradient norm = 0.0000779 (50 iterations in 0.380s)\n",
      "[t-SNE] Iteration 750: error = 0.7463861, gradient norm = 0.0000726 (50 iterations in 0.405s)\n",
      "[t-SNE] Iteration 800: error = 0.7449849, gradient norm = 0.0000617 (50 iterations in 0.379s)\n",
      "[t-SNE] Iteration 850: error = 0.7441088, gradient norm = 0.0000575 (50 iterations in 0.374s)\n",
      "[t-SNE] Iteration 900: error = 0.7432464, gradient norm = 0.0000566 (50 iterations in 0.378s)\n",
      "[t-SNE] Iteration 950: error = 0.7425568, gradient norm = 0.0000640 (50 iterations in 0.377s)\n",
      "[t-SNE] Iteration 1000: error = 0.7419273, gradient norm = 0.0000542 (50 iterations in 0.382s)\n",
      "[t-SNE] KL divergence after 1000 iterations: 0.741927\n"
     ]
    }
   ],
   "source": [
    "#Now let's use t-SNE to reduce dimensionality down to 2D so we can plot the dataset:\n",
    "\n",
    "from sklearn.manifold import TSNE\n",
    "\n",
    "tsne = TSNE(n_components=2, random_state=42, verbose = 2)\n",
    "TSNE_X = tsne.fit_transform(final_train_x)\n",
    "TSNE_X_test = tsne.fit_transform(final_test_x)"
   ]
  },
  {
   "cell_type": "code",
   "execution_count": 40,
   "metadata": {
    "_uuid": "3b8cd9781ff367b62418e452b95703e3d7f8ff63",
    "execution": {
     "iopub.execute_input": "2020-09-13T13:39:13.155819Z",
     "iopub.status.busy": "2020-09-13T13:39:13.150938Z",
     "iopub.status.idle": "2020-09-13T13:39:13.341728Z",
     "shell.execute_reply": "2020-09-13T13:39:13.342294Z"
    },
    "papermill": {
     "duration": 0.301649,
     "end_time": "2020-09-13T13:39:13.342453",
     "exception": false,
     "start_time": "2020-09-13T13:39:13.040804",
     "status": "completed"
    },
    "tags": []
   },
   "outputs": [
    {
     "data": {
      "image/png": "[encoded data removed]",
      "text/plain": [
       "<Figure size 936x720 with 2 Axes>"
      ]
     },
     "metadata": {},
     "output_type": "display_data"
    }
   ],
   "source": [
    "plt.figure(figsize=(13,10))\n",
    "plt.scatter(TSNE_X[:, 0], TSNE_X[:, 1], c=train_y, cmap=\"jet\")\n",
    "plt.axis('off')\n",
    "plt.colorbar()\n",
    "plt.show()"
   ]
  },
  {
   "cell_type": "markdown",
   "metadata": {
    "_uuid": "f3ee6010f767038d105da10df8638413cadaf819",
    "papermill": {
     "duration": 0.084509,
     "end_time": "2020-09-13T13:39:13.512652",
     "exception": false,
     "start_time": "2020-09-13T13:39:13.428143",
     "status": "completed"
    },
    "tags": []
   },
   "source": [
    "PCA - Not better than TSNE"
   ]
  },
  {
   "cell_type": "code",
   "execution_count": 41,
   "metadata": {
    "_uuid": "a0488512720ded498f2f4f5b6a7f055c1eeae29b",
    "execution": {
     "iopub.execute_input": "2020-09-13T13:39:13.684796Z",
     "iopub.status.busy": "2020-09-13T13:39:13.684056Z",
     "iopub.status.idle": "2020-09-13T13:39:13.960628Z",
     "shell.execute_reply": "2020-09-13T13:39:13.961301Z"
    },
    "papermill": {
     "duration": 0.365592,
     "end_time": "2020-09-13T13:39:13.961494",
     "exception": false,
     "start_time": "2020-09-13T13:39:13.595902",
     "status": "completed"
    },
    "tags": []
   },
   "outputs": [
    {
     "data": {
      "image/png": "[encoded data removed]",
      "text/plain": [
       "<Figure size 576x396 with 2 Axes>"
      ]
     },
     "metadata": {},
     "output_type": "display_data"
    }
   ],
   "source": [
    "from sklearn.decomposition import PCA\n",
    "\n",
    "PCA_train_x = PCA(n_components=300, random_state=42).fit_transform(final_train_x)\n",
    "plt.scatter(PCA_train_x[:, 0], PCA_train_x[:, 1], c=train_y, cmap=\"jet\")\n",
    "plt.axis('off')\n",
    "plt.colorbar()\n",
    "plt.show()"
   ]
  },
  {
   "cell_type": "markdown",
   "metadata": {
    "_uuid": "f2903d14f19aef7a56ade87e034c9038279d2224",
    "papermill": {
     "duration": 0.083837,
     "end_time": "2020-09-13T13:39:14.135401",
     "exception": false,
     "start_time": "2020-09-13T13:39:14.051564",
     "status": "completed"
    },
    "tags": []
   },
   "source": [
    "Kernel PCA"
   ]
  },
  {
   "cell_type": "code",
   "execution_count": 42,
   "metadata": {
    "_uuid": "603dc3036260e49d855fcbaf4eefa5fa2f4b9d94",
    "execution": {
     "iopub.execute_input": "2020-09-13T13:39:14.307826Z",
     "iopub.status.busy": "2020-09-13T13:39:14.306807Z",
     "iopub.status.idle": "2020-09-13T13:39:15.054586Z",
     "shell.execute_reply": "2020-09-13T13:39:15.054019Z"
    },
    "papermill": {
     "duration": 0.835233,
     "end_time": "2020-09-13T13:39:15.054718",
     "exception": false,
     "start_time": "2020-09-13T13:39:14.219485",
     "status": "completed"
    },
    "tags": []
   },
   "outputs": [
    {
     "data": {
      "image/png": "[encoded data removed]",
      "text/plain": [
       "<Figure size 792x288 with 3 Axes>"
      ]
     },
     "metadata": {},
     "output_type": "display_data"
    }
   ],
   "source": [
    "from sklearn.decomposition import KernelPCA\n",
    "\n",
    "lin_pca = KernelPCA(n_components = 2, kernel=\"linear\", fit_inverse_transform=True)\n",
    "rbf_pca = KernelPCA(n_components = 2, kernel=\"rbf\", gamma=0.0433, fit_inverse_transform=True)\n",
    "sig_pca = KernelPCA(n_components = 2, kernel=\"sigmoid\", gamma=0.001, coef0=1, fit_inverse_transform=True)\n",
    "\n",
    "\n",
    "plt.figure(figsize=(11, 4))\n",
    "for subplot, pca, title in ((131, lin_pca, \"Linear kernel\"), (132, rbf_pca, \"RBF kernel, $\\gamma=0.04$\"), \n",
    "                            (133, sig_pca, \"Sigmoid kernel, $\\gamma=10^{-3}, r=1$\")):\n",
    "       \n",
    "    plt.subplot(subplot)\n",
    "    plt.title(title, fontsize=14)\n",
    "    plt.scatter(PCA_train_x[:, 0], PCA_train_x[:, 1], c=train_y, cmap=plt.cm.hot)\n",
    "    plt.xlabel(\"$z_1$\", fontsize=18)\n",
    "    if subplot == 131:\n",
    "        plt.ylabel(\"$z_2$\", fontsize=18, rotation=0)\n",
    "    plt.grid(True)\n",
    "\n",
    "plt.show()"
   ]
  },
  {
   "cell_type": "markdown",
   "metadata": {
    "_uuid": "89c3c862c3330012131d2553b4db496f7f87fcda",
    "papermill": {
     "duration": 0.085549,
     "end_time": "2020-09-13T13:39:15.227486",
     "exception": false,
     "start_time": "2020-09-13T13:39:15.141937",
     "status": "completed"
    },
    "tags": []
   },
   "source": [
    "Locally Linear Embedding"
   ]
  },
  {
   "cell_type": "code",
   "execution_count": 43,
   "metadata": {
    "_uuid": "67892aaa0c0e81a1f40efeb6872a827bb572c27a",
    "execution": {
     "iopub.execute_input": "2020-09-13T13:39:15.409747Z",
     "iopub.status.busy": "2020-09-13T13:39:15.408710Z",
     "iopub.status.idle": "2020-09-13T13:39:16.121626Z",
     "shell.execute_reply": "2020-09-13T13:39:16.120938Z"
    },
    "papermill": {
     "duration": 0.808781,
     "end_time": "2020-09-13T13:39:16.121783",
     "exception": false,
     "start_time": "2020-09-13T13:39:15.313002",
     "status": "completed"
    },
    "scrolled": true,
    "tags": []
   },
   "outputs": [],
   "source": [
    "from sklearn.manifold import LocallyLinearEmbedding\n",
    "\n",
    "lle = LocallyLinearEmbedding(n_components=2, n_neighbors=10, random_state=42)\n",
    "PCA_X = lle.fit_transform(final_train_x)"
   ]
  },
  {
   "cell_type": "code",
   "execution_count": 44,
   "metadata": {
    "_uuid": "2b0bb01a7264c82b77acd3ef647e7c7f471fa931",
    "execution": {
     "iopub.execute_input": "2020-09-13T13:39:16.316225Z",
     "iopub.status.busy": "2020-09-13T13:39:16.315136Z",
     "iopub.status.idle": "2020-09-13T13:39:16.520087Z",
     "shell.execute_reply": "2020-09-13T13:39:16.519409Z"
    },
    "papermill": {
     "duration": 0.306939,
     "end_time": "2020-09-13T13:39:16.520202",
     "exception": false,
     "start_time": "2020-09-13T13:39:16.213263",
     "status": "completed"
    },
    "tags": []
   },
   "outputs": [
    {
     "data": {
      "image/png": "[encoded data removed]",
      "text/plain": [
       "<Figure size 576x396 with 1 Axes>"
      ]
     },
     "metadata": {},
     "output_type": "display_data"
    }
   ],
   "source": [
    "plt.title(\"Unrolled swiss roll using LLE\", fontsize=14)\n",
    "plt.scatter(PCA_X [:, 0], PCA_X [:, 1], c= train_y, cmap=plt.cm.hot)\n",
    "plt.xlabel(\"$z_1$\", fontsize=18)\n",
    "plt.ylabel(\"$z_2$\", fontsize=18)\n",
    "plt.axis([-0.100, 0.215, -0.043, 0.14])\n",
    "plt.grid(True)\n",
    "plt.show()"
   ]
  },
  {
   "cell_type": "markdown",
   "metadata": {
    "_uuid": "36564a8040eb2404ada6fbb5e5efcb6bf5524cc2",
    "papermill": {
     "duration": 0.088086,
     "end_time": "2020-09-13T13:39:16.695765",
     "exception": false,
     "start_time": "2020-09-13T13:39:16.607679",
     "status": "completed"
    },
    "tags": []
   },
   "source": [
    "PCA + TSNE"
   ]
  },
  {
   "cell_type": "code",
   "execution_count": 45,
   "metadata": {
    "_uuid": "4161ba8fbe7dd88394bb1f6f19c946d6ac38bd23",
    "execution": {
     "iopub.execute_input": "2020-09-13T13:39:16.888093Z",
     "iopub.status.busy": "2020-09-13T13:39:16.887364Z",
     "iopub.status.idle": "2020-09-13T13:39:23.403993Z",
     "shell.execute_reply": "2020-09-13T13:39:23.404582Z"
    },
    "papermill": {
     "duration": 6.621788,
     "end_time": "2020-09-13T13:39:23.404745",
     "exception": false,
     "start_time": "2020-09-13T13:39:16.782957",
     "status": "completed"
    },
    "tags": []
   },
   "outputs": [
    {
     "data": {
      "image/png": "[encoded data removed]",
      "text/plain": [
       "<Figure size 576x396 with 1 Axes>"
      ]
     },
     "metadata": {},
     "output_type": "display_data"
    }
   ],
   "source": [
    "pca_tsne = Pipeline([\n",
    "    (\"pca\", PCA(n_components=0.95, random_state=42)),\n",
    "    (\"tsne\", TSNE(n_components=2, random_state=42))\n",
    "])\n",
    "X_pca_tsne = pca_tsne.fit_transform(final_train_x)\n",
    "plt.title(\"PCA and TSNE\", fontsize=14)\n",
    "plt.scatter(X_pca_tsne [:, 0], X_pca_tsne [:, 1], c= train_y, cmap=plt.cm.hot)\n",
    "plt.xlabel(\"$z_1$\", fontsize=18)\n",
    "plt.ylabel(\"$z_2$\", fontsize=18)\n",
    "plt.show()"
   ]
  },
  {
   "cell_type": "markdown",
   "metadata": {
    "_uuid": "15bdc2f37d1f5de7cf57121823e63f682e8b9986",
    "papermill": {
     "duration": 0.08999,
     "end_time": "2020-09-13T13:39:23.585009",
     "exception": false,
     "start_time": "2020-09-13T13:39:23.495019",
     "status": "completed"
    },
    "tags": []
   },
   "source": [
    "None of the above techniques could clearly identify the clusters. So I will drop the idea of dropping any dimensions\n",
    "\n",
    "Now We Build the Models"
   ]
  },
  {
   "cell_type": "code",
   "execution_count": 46,
   "metadata": {
    "_uuid": "29a055931103d081607e56b20807fa0329e83d62",
    "execution": {
     "iopub.execute_input": "2020-09-13T13:39:23.771509Z",
     "iopub.status.busy": "2020-09-13T13:39:23.770804Z",
     "iopub.status.idle": "2020-09-13T13:40:50.695129Z",
     "shell.execute_reply": "2020-09-13T13:40:50.695851Z"
    },
    "papermill": {
     "duration": 87.019649,
     "end_time": "2020-09-13T13:40:50.696008",
     "exception": false,
     "start_time": "2020-09-13T13:39:23.676359",
     "status": "completed"
    },
    "tags": []
   },
   "outputs": [
    {
     "name": "stdout",
     "output_type": "stream",
     "text": [
      "Fitting 4 folds for each of 10 candidates, totalling 40 fits\n"
     ]
    },
    {
     "name": "stderr",
     "output_type": "stream",
     "text": [
      "[Parallel(n_jobs=-1)]: Using backend LokyBackend with 4 concurrent workers.\n",
      "[Parallel(n_jobs=-1)]: Done  33 tasks      | elapsed:   57.2s\n",
      "[Parallel(n_jobs=-1)]: Done  40 out of  40 | elapsed:   57.6s finished\n"
     ]
    },
    {
     "data": {
      "text/plain": [
       "RandomizedSearchCV(cv=4, estimator=RandomForestRegressor(random_state=42),\n",
       "                   n_jobs=-1,\n",
       "                   param_distributions={'max_features': ['auto', 'sqrt',\n",
       "                                                         'log2'],\n",
       "                                        'n_estimators': [10, 70, 500, 700]},\n",
       "                   scoring='neg_mean_squared_error', verbose=2)"
      ]
     },
     "execution_count": 46,
     "metadata": {},
     "output_type": "execute_result"
    }
   ],
   "source": [
    "#Random Forest Regressor.\n",
    "forest_class = RandomForestRegressor(random_state = 42)\n",
    "\n",
    "n_estimators = [10,70,500,700]\n",
    "max_features = [\"auto\",'sqrt','log2']\n",
    "\n",
    "param_grid_forest = {'n_estimators' : n_estimators, 'max_features' : max_features}\n",
    "\n",
    "rand_search_forest = RandomizedSearchCV(forest_class, param_grid_forest, cv = 4, \n",
    "                                        scoring='neg_mean_squared_error', n_jobs = -1, verbose=2)\n",
    "\n",
    "rand_search_forest.fit(final_train_x, train_y)"
   ]
  },
  {
   "cell_type": "code",
   "execution_count": 47,
   "metadata": {
    "_uuid": "49b283f4908b4f7cc53044c45008ccf9c56c2c01",
    "execution": {
     "iopub.execute_input": "2020-09-13T13:40:50.891096Z",
     "iopub.status.busy": "2020-09-13T13:40:50.890387Z",
     "iopub.status.idle": "2020-09-13T13:40:51.170086Z",
     "shell.execute_reply": "2020-09-13T13:40:51.170581Z"
    },
    "papermill": {
     "duration": 0.382354,
     "end_time": "2020-09-13T13:40:51.170733",
     "exception": false,
     "start_time": "2020-09-13T13:40:50.788379",
     "status": "completed"
    },
    "tags": []
   },
   "outputs": [
    {
     "data": {
      "text/plain": [
       "0.05010412034866873"
      ]
     },
     "execution_count": 47,
     "metadata": {},
     "output_type": "execute_result"
    }
   ],
   "source": [
    "random_estimator = rand_search_forest.best_estimator_ \n",
    "y_pred_rf= random_estimator.predict(final_train_x)\n",
    "rf_msle = mean_squared_error(train_y, y_pred_rf)\n",
    "rf_rmsle = np.sqrt(rf_msle)\n",
    "rf_rmsle"
   ]
  },
  {
   "cell_type": "code",
   "execution_count": 48,
   "metadata": {
    "_uuid": "cca3086bb23068156f5ed57b6d143d4e959abf98",
    "execution": {
     "iopub.execute_input": "2020-09-13T13:40:51.367577Z",
     "iopub.status.busy": "2020-09-13T13:40:51.366389Z",
     "iopub.status.idle": "2020-09-13T13:41:07.003856Z",
     "shell.execute_reply": "2020-09-13T13:41:07.003250Z"
    },
    "papermill": {
     "duration": 15.739118,
     "end_time": "2020-09-13T13:41:07.003986",
     "exception": false,
     "start_time": "2020-09-13T13:40:51.264868",
     "status": "completed"
    },
    "tags": []
   },
   "outputs": [
    {
     "name": "stdout",
     "output_type": "stream",
     "text": [
      "Fitting 4 folds for each of 2 candidates, totalling 8 fits\n"
     ]
    },
    {
     "name": "stderr",
     "output_type": "stream",
     "text": [
      "[Parallel(n_jobs=-1)]: Using backend LokyBackend with 4 concurrent workers.\n",
      "[Parallel(n_jobs=-1)]: Done   6 out of   8 | elapsed:    8.8s remaining:    2.9s\n",
      "[Parallel(n_jobs=-1)]: Done   8 out of   8 | elapsed:    8.9s finished\n"
     ]
    },
    {
     "data": {
      "text/plain": [
       "GridSearchCV(cv=4, estimator=GradientBoostingRegressor(random_state=42),\n",
       "             n_jobs=-1, param_grid={'n_estimators': [50, 500]},\n",
       "             scoring='neg_mean_squared_error', verbose=2)"
      ]
     },
     "execution_count": 48,
     "metadata": {},
     "output_type": "execute_result"
    }
   ],
   "source": [
    "GB_Regressor = GradientBoostingRegressor(random_state = 42)\n",
    "\n",
    "n_estimators = [50,500]\n",
    "\n",
    "param_grid_grad_boost_class = {'n_estimators' : n_estimators}\n",
    "\n",
    "rand_search_grad_boost_class = GridSearchCV(GB_Regressor, param_grid_grad_boost_class, cv = 4, scoring='neg_mean_squared_error', \n",
    "                               refit = True, n_jobs = -1, verbose = 2)\n",
    "\n",
    "rand_search_grad_boost_class.fit(final_train_x, train_y)"
   ]
  },
  {
   "cell_type": "code",
   "execution_count": 49,
   "metadata": {
    "_uuid": "fd0a7d4d57e0bf9441d134cd3970e8487f0d2f30",
    "execution": {
     "iopub.execute_input": "2020-09-13T13:41:07.207896Z",
     "iopub.status.busy": "2020-09-13T13:41:07.207092Z",
     "iopub.status.idle": "2020-09-13T13:41:07.229511Z",
     "shell.execute_reply": "2020-09-13T13:41:07.228927Z"
    },
    "papermill": {
     "duration": 0.129864,
     "end_time": "2020-09-13T13:41:07.229642",
     "exception": false,
     "start_time": "2020-09-13T13:41:07.099778",
     "status": "completed"
    },
    "tags": []
   },
   "outputs": [
    {
     "data": {
      "text/plain": [
       "0.037503938027834825"
      ]
     },
     "execution_count": 49,
     "metadata": {},
     "output_type": "execute_result"
    }
   ],
   "source": [
    "gb_estimator = rand_search_grad_boost_class.best_estimator_ \n",
    "y_pred_gb= gb_estimator.predict(final_train_x)\n",
    "gb_msle = mean_squared_error(train_y, y_pred_gb)\n",
    "gb_rmsle = np.sqrt(gb_msle)\n",
    "gb_rmsle"
   ]
  },
  {
   "cell_type": "code",
   "execution_count": 50,
   "metadata": {
    "_uuid": "70661eddc2805c24485e1cef51a0959e165d7b48",
    "execution": {
     "iopub.execute_input": "2020-09-13T13:41:07.424747Z",
     "iopub.status.busy": "2020-09-13T13:41:07.423689Z",
     "iopub.status.idle": "2020-09-13T13:41:07.654529Z",
     "shell.execute_reply": "2020-09-13T13:41:07.655365Z"
    },
    "papermill": {
     "duration": 0.330326,
     "end_time": "2020-09-13T13:41:07.655527",
     "exception": false,
     "start_time": "2020-09-13T13:41:07.325201",
     "status": "completed"
    },
    "tags": []
   },
   "outputs": [
    {
     "data": {
      "text/plain": [
       "ElasticNet()"
      ]
     },
     "execution_count": 50,
     "metadata": {},
     "output_type": "execute_result"
    }
   ],
   "source": [
    "en = ElasticNet()\n",
    "en.fit(final_train_x, train_y)"
   ]
  },
  {
   "cell_type": "code",
   "execution_count": 51,
   "metadata": {
    "_uuid": "0999930cde861a8b8417f32cf23d49a87261c017",
    "execution": {
     "iopub.execute_input": "2020-09-13T13:41:07.852392Z",
     "iopub.status.busy": "2020-09-13T13:41:07.851428Z",
     "iopub.status.idle": "2020-09-13T13:41:10.382338Z",
     "shell.execute_reply": "2020-09-13T13:41:10.383013Z"
    },
    "papermill": {
     "duration": 2.630646,
     "end_time": "2020-09-13T13:41:10.383196",
     "exception": false,
     "start_time": "2020-09-13T13:41:07.752550",
     "status": "completed"
    },
    "tags": []
   },
   "outputs": [
    {
     "name": "stdout",
     "output_type": "stream",
     "text": [
      "Fitting 4 folds for each of 5 candidates, totalling 20 fits\n"
     ]
    },
    {
     "name": "stderr",
     "output_type": "stream",
     "text": [
      "[Parallel(n_jobs=-1)]: Using backend LokyBackend with 4 concurrent workers.\n",
      "[Parallel(n_jobs=-1)]: Done  20 out of  20 | elapsed:    2.2s finished\n"
     ]
    },
    {
     "data": {
      "text/plain": [
       "GridSearchCV(cv=4, estimator=ElasticNet(), n_jobs=-1,\n",
       "             param_grid={'alpha': [0.0001, 0.0005, 0.005, 0.05, 1]},\n",
       "             scoring='neg_mean_squared_error', verbose=2)"
      ]
     },
     "execution_count": 51,
     "metadata": {},
     "output_type": "execute_result"
    }
   ],
   "source": [
    "#Implement an Elastic Net regressor\n",
    "\n",
    "ElasticRegressor = ElasticNet()\n",
    "\n",
    "alpha = [.0001,.0005,.005,.05,1]\n",
    "\n",
    "param_grid_elastic = {'alpha' : alpha}\n",
    "\n",
    "rand_search_elastic = GridSearchCV(ElasticRegressor, param_grid_elastic, cv = 4, scoring='neg_mean_squared_error', \n",
    "                               refit = True, n_jobs = -1, verbose = 2)\n",
    "\n",
    "rand_search_elastic.fit(final_train_x, train_y)"
   ]
  },
  {
   "cell_type": "code",
   "execution_count": 52,
   "metadata": {
    "_uuid": "f0ab5f165723ee1129a04819c74aa86cdf07d020",
    "execution": {
     "iopub.execute_input": "2020-09-13T13:41:10.585538Z",
     "iopub.status.busy": "2020-09-13T13:41:10.584533Z",
     "iopub.status.idle": "2020-09-13T13:41:10.598460Z",
     "shell.execute_reply": "2020-09-13T13:41:10.599013Z"
    },
    "papermill": {
     "duration": 0.114753,
     "end_time": "2020-09-13T13:41:10.599154",
     "exception": false,
     "start_time": "2020-09-13T13:41:10.484401",
     "status": "completed"
    },
    "tags": []
   },
   "outputs": [
    {
     "data": {
      "text/plain": [
       "0.0969119890893796"
      ]
     },
     "execution_count": 52,
     "metadata": {},
     "output_type": "execute_result"
    }
   ],
   "source": [
    "elastic_estimator = rand_search_elastic.best_estimator_\n",
    "y_pred_elastic = elastic_estimator.predict(final_train_x)\n",
    "elastic_msle = mean_squared_error(train_y, y_pred_elastic)\n",
    "elastic_rmsle = np.sqrt(elastic_msle)\n",
    "elastic_rmsle"
   ]
  },
  {
   "cell_type": "code",
   "execution_count": 53,
   "metadata": {
    "_uuid": "09d731b2837b19ba6a4d29702f1c1b45167e6b74",
    "execution": {
     "iopub.execute_input": "2020-09-13T13:41:10.799754Z",
     "iopub.status.busy": "2020-09-13T13:41:10.798732Z",
     "iopub.status.idle": "2020-09-13T13:41:13.455643Z",
     "shell.execute_reply": "2020-09-13T13:41:13.456194Z"
    },
    "papermill": {
     "duration": 2.759302,
     "end_time": "2020-09-13T13:41:13.456367",
     "exception": false,
     "start_time": "2020-09-13T13:41:10.697065",
     "status": "completed"
    },
    "tags": []
   },
   "outputs": [
    {
     "name": "stdout",
     "output_type": "stream",
     "text": [
      "Fitting 4 folds for each of 4 candidates, totalling 16 fits\n"
     ]
    },
    {
     "name": "stderr",
     "output_type": "stream",
     "text": [
      "[Parallel(n_jobs=-1)]: Using backend LokyBackend with 4 concurrent workers.\n",
      "[Parallel(n_jobs=-1)]: Done  16 out of  16 | elapsed:    2.4s finished\n"
     ]
    },
    {
     "data": {
      "text/plain": [
       "GridSearchCV(cv=4, estimator=LassoCV(), n_jobs=-1,\n",
       "             param_grid={'max_iter': [50, 100, 500, 1000]},\n",
       "             scoring='neg_mean_squared_error', verbose=2)"
      ]
     },
     "execution_count": 53,
     "metadata": {},
     "output_type": "execute_result"
    }
   ],
   "source": [
    "#Implement a lasso regresso\n",
    "\n",
    "LassoRegressor = LassoCV()\n",
    "\n",
    "max_iter = [50,100,500,1000]\n",
    "\n",
    "param_grid_lasso = {'max_iter' : max_iter}\n",
    "\n",
    "rand_search_lasso = GridSearchCV(LassoRegressor, param_grid_lasso, cv = 4, scoring='neg_mean_squared_error', \n",
    "                               refit = True, n_jobs = -1, verbose = 2)\n",
    "\n",
    "rand_search_lasso.fit(final_train_x, train_y)"
   ]
  },
  {
   "cell_type": "code",
   "execution_count": 54,
   "metadata": {
    "_uuid": "904695da66331448ec8d8890cace5f2ee367eaaa",
    "execution": {
     "iopub.execute_input": "2020-09-13T13:41:13.659338Z",
     "iopub.status.busy": "2020-09-13T13:41:13.658343Z",
     "iopub.status.idle": "2020-09-13T13:41:13.672608Z",
     "shell.execute_reply": "2020-09-13T13:41:13.673227Z"
    },
    "papermill": {
     "duration": 0.116708,
     "end_time": "2020-09-13T13:41:13.673400",
     "exception": false,
     "start_time": "2020-09-13T13:41:13.556692",
     "status": "completed"
    },
    "tags": []
   },
   "outputs": [
    {
     "data": {
      "text/plain": [
       "0.1651502165004421"
      ]
     },
     "execution_count": 54,
     "metadata": {},
     "output_type": "execute_result"
    }
   ],
   "source": [
    "lasso_estimator = rand_search_lasso.best_estimator_\n",
    "y_pred_lasso= lasso_estimator.predict(final_train_x)\n",
    "lasso_msle = mean_squared_error(train_y, y_pred_lasso)\n",
    "lasso_rmsle = np.sqrt(lasso_msle)\n",
    "lasso_rmsle"
   ]
  },
  {
   "cell_type": "code",
   "execution_count": 55,
   "metadata": {
    "_uuid": "9721537a1ef70846f82c7fc7b0066c903165c369",
    "execution": {
     "iopub.execute_input": "2020-09-13T13:41:13.880111Z",
     "iopub.status.busy": "2020-09-13T13:41:13.879126Z",
     "iopub.status.idle": "2020-09-13T13:41:29.600510Z",
     "shell.execute_reply": "2020-09-13T13:41:29.599794Z"
    },
    "papermill": {
     "duration": 15.826926,
     "end_time": "2020-09-13T13:41:29.600649",
     "exception": false,
     "start_time": "2020-09-13T13:41:13.773723",
     "status": "completed"
    },
    "tags": []
   },
   "outputs": [
    {
     "name": "stdout",
     "output_type": "stream",
     "text": [
      "[13:41:13] WARNING: ../src/objective/regression_obj.cu:174: reg:linear is now deprecated in favor of reg:squarederror.\n",
      "[13:41:29] WARNING: ../src/objective/regression_obj.cu:174: reg:linear is now deprecated in favor of reg:squarederror.\n"
     ]
    }
   ],
   "source": [
    "xgb = XGBRegressor(learning_rate =0.01, n_estimators=3460, max_depth=3,\n",
    "                     min_child_weight=0 ,gamma=0, subsample=0.7,\n",
    "                     colsample_bytree=0.7,objective= 'reg:linear',\n",
    "                     nthread=4,scale_pos_weight=1,seed=27, reg_alpha=0.00006)\n",
    "\n",
    "xgb_fit = xgb.fit(final_train_x, train_y)"
   ]
  },
  {
   "cell_type": "code",
   "execution_count": 56,
   "metadata": {
    "_uuid": "5f2636f1cbeeddc55189d9bcda41cf137a3b8927",
    "execution": {
     "iopub.execute_input": "2020-09-13T13:41:29.853324Z",
     "iopub.status.busy": "2020-09-13T13:41:29.852126Z",
     "iopub.status.idle": "2020-09-13T13:41:29.940874Z",
     "shell.execute_reply": "2020-09-13T13:41:29.941580Z"
    },
    "papermill": {
     "duration": 0.210885,
     "end_time": "2020-09-13T13:41:29.941760",
     "exception": false,
     "start_time": "2020-09-13T13:41:29.730875",
     "status": "completed"
    },
    "tags": []
   },
   "outputs": [
    {
     "data": {
      "text/plain": [
       "0.048736011655659"
      ]
     },
     "execution_count": 56,
     "metadata": {},
     "output_type": "execute_result"
    }
   ],
   "source": [
    "y_pred_xgb= xgb_fit.predict(final_train_x)\n",
    "xgb_msle = mean_squared_error(train_y, y_pred_xgb)\n",
    "xgb_rmsle = np.sqrt(xgb_msle)\n",
    "xgb_rmsle"
   ]
  },
  {
   "cell_type": "code",
   "execution_count": 57,
   "metadata": {
    "_uuid": "97e8f6de7a53246837ddd6c45c77765ad53aa48d",
    "execution": {
     "iopub.execute_input": "2020-09-13T13:41:30.200759Z",
     "iopub.status.busy": "2020-09-13T13:41:30.199562Z",
     "iopub.status.idle": "2020-09-13T13:41:46.640648Z",
     "shell.execute_reply": "2020-09-13T13:41:46.641366Z"
    },
    "papermill": {
     "duration": 16.570521,
     "end_time": "2020-09-13T13:41:46.641569",
     "exception": false,
     "start_time": "2020-09-13T13:41:30.071048",
     "status": "completed"
    },
    "tags": []
   },
   "outputs": [
    {
     "name": "stdout",
     "output_type": "stream",
     "text": [
      "[13:41:30] WARNING: ../src/objective/regression_obj.cu:174: reg:linear is now deprecated in favor of reg:squarederror.\n",
      "[13:41:46] WARNING: ../src/objective/regression_obj.cu:174: reg:linear is now deprecated in favor of reg:squarederror.\n"
     ]
    }
   ],
   "source": [
    "lgbm_model = LGBMRegressor(objective='regression',num_leaves=5,\n",
    "                              learning_rate=0.05, n_estimators=720,\n",
    "                              max_bin = 55, bagging_fraction = 0.8,\n",
    "                              bagging_freq = 5, feature_fraction = 0.2319,\n",
    "                              feature_fraction_seed=9, bagging_seed=9,\n",
    "                              min_data_in_leaf =6, min_sum_hessian_in_leaf = 11)\n",
    "\n",
    "lgbm_fit = xgb.fit(final_train_x, train_y)"
   ]
  },
  {
   "cell_type": "code",
   "execution_count": 58,
   "metadata": {
    "_uuid": "76ba54fe71e1b48a2c02f9f0ba055e0671afe1c3",
    "execution": {
     "iopub.execute_input": "2020-09-13T13:41:46.900590Z",
     "iopub.status.busy": "2020-09-13T13:41:46.899880Z",
     "iopub.status.idle": "2020-09-13T13:41:46.985736Z",
     "shell.execute_reply": "2020-09-13T13:41:46.986365Z"
    },
    "papermill": {
     "duration": 0.208499,
     "end_time": "2020-09-13T13:41:46.986556",
     "exception": false,
     "start_time": "2020-09-13T13:41:46.778057",
     "status": "completed"
    },
    "tags": []
   },
   "outputs": [
    {
     "data": {
      "text/plain": [
       "0.048736011655659"
      ]
     },
     "execution_count": 58,
     "metadata": {},
     "output_type": "execute_result"
    }
   ],
   "source": [
    "y_pred_lgbm= lgbm_fit.predict(final_train_x)\n",
    "lgbm_msle = mean_squared_error(train_y, y_pred_lgbm)\n",
    "lgbm_rmsle = np.sqrt(lgbm_msle)\n",
    "lgbm_rmsle"
   ]
  },
  {
   "cell_type": "markdown",
   "metadata": {
    "_uuid": "f77d8db1f0d1dbdd98821669dc83ea053a6965bb",
    "papermill": {
     "duration": 0.112819,
     "end_time": "2020-09-13T13:41:47.237807",
     "exception": false,
     "start_time": "2020-09-13T13:41:47.124988",
     "status": "completed"
    },
    "tags": []
   },
   "source": [
    "Submit the first submission - with Gradient Boosting as best model"
   ]
  },
  {
   "cell_type": "code",
   "execution_count": 59,
   "metadata": {
    "_uuid": "f4e7885dec9776630c5c9988c7e72dae079186a2",
    "execution": {
     "iopub.execute_input": "2020-09-13T13:41:47.458310Z",
     "iopub.status.busy": "2020-09-13T13:41:47.457562Z",
     "iopub.status.idle": "2020-09-13T13:41:47.925422Z",
     "shell.execute_reply": "2020-09-13T13:41:47.926594Z"
    },
    "papermill": {
     "duration": 0.583016,
     "end_time": "2020-09-13T13:41:47.926789",
     "exception": false,
     "start_time": "2020-09-13T13:41:47.343773",
     "status": "completed"
    },
    "tags": []
   },
   "outputs": [],
   "source": [
    "y_pred_gb_test= gb_estimator.predict(final_test_x)\n",
    "y_pred_rf_test= random_estimator.predict(final_test_x)\n",
    "y_pred_las_test = lasso_estimator.predict(final_test_x)\n",
    "y_pred_elas_test = elastic_estimator.predict(final_test_x)\n",
    "y_pred_xgb_test = xgb_fit.predict(final_test_x)\n",
    "y_pred_lgbm_test = lgbm_fit.predict(final_test_x)"
   ]
  },
  {
   "cell_type": "markdown",
   "metadata": {
    "_uuid": "33de46782e537b35720a3d050df3d7e0d1236de0",
    "papermill": {
     "duration": 0.115161,
     "end_time": "2020-09-13T13:41:48.180158",
     "exception": false,
     "start_time": "2020-09-13T13:41:48.064997",
     "status": "completed"
    },
    "tags": []
   },
   "source": [
    "Taking the averages of best 4 models - Gradient Boosting, Light GBM, XG Boost and Random Forest. This will be improved with Stacking Regressor in the next version."
   ]
  },
  {
   "cell_type": "code",
   "execution_count": 60,
   "metadata": {
    "_uuid": "11a74925fff602ac6cddb602b39c86d2720c1fd6",
    "execution": {
     "iopub.execute_input": "2020-09-13T13:41:48.397351Z",
     "iopub.status.busy": "2020-09-13T13:41:48.396618Z",
     "iopub.status.idle": "2020-09-13T13:41:48.543626Z",
     "shell.execute_reply": "2020-09-13T13:41:48.544257Z"
    },
    "papermill": {
     "duration": 0.259588,
     "end_time": "2020-09-13T13:41:48.544439",
     "exception": false,
     "start_time": "2020-09-13T13:41:48.284851",
     "status": "completed"
    },
    "tags": []
   },
   "outputs": [
    {
     "ename": "FileNotFoundError",
     "evalue": "[Errno 2] No such file or directory: '../input/sample_submission.csv'",
     "output_type": "error",
     "traceback": [
      "\u001b[0;31m---------------------------------------------------------------------------\u001b[0m",
      "\u001b[0;31mFileNotFoundError\u001b[0m                         Traceback (most recent call last)",
      "\u001b[0;32m<ipython-input-60-64669d2f20c0>\u001b[0m in \u001b[0;36m<module>\u001b[0;34m\u001b[0m\n\u001b[0;32m----> 1\u001b[0;31m \u001b[0msubmission\u001b[0m \u001b[0;34m=\u001b[0m \u001b[0mpd\u001b[0m\u001b[0;34m.\u001b[0m\u001b[0mread_csv\u001b[0m\u001b[0;34m(\u001b[0m\u001b[0;34m\"../input/sample_submission.csv\"\u001b[0m\u001b[0;34m)\u001b[0m\u001b[0;34m\u001b[0m\u001b[0;34m\u001b[0m\u001b[0m\n\u001b[0m\u001b[1;32m      2\u001b[0m \u001b[0msubmission\u001b[0m\u001b[0;34m.\u001b[0m\u001b[0miloc\u001b[0m\u001b[0;34m[\u001b[0m\u001b[0;34m:\u001b[0m\u001b[0;34m,\u001b[0m\u001b[0;36m1\u001b[0m\u001b[0;34m]\u001b[0m \u001b[0;34m=\u001b[0m \u001b[0;34m(\u001b[0m\u001b[0mnp\u001b[0m\u001b[0;34m.\u001b[0m\u001b[0mexpm1\u001b[0m\u001b[0;34m(\u001b[0m\u001b[0my_pred_gb_test\u001b[0m\u001b[0;34m)\u001b[0m \u001b[0;34m+\u001b[0m \u001b[0mnp\u001b[0m\u001b[0;34m.\u001b[0m\u001b[0mexpm1\u001b[0m\u001b[0;34m(\u001b[0m\u001b[0my_pred_rf_test\u001b[0m\u001b[0;34m)\u001b[0m \u001b[0;34m+\u001b[0m \u001b[0mnp\u001b[0m\u001b[0;34m.\u001b[0m\u001b[0mexpm1\u001b[0m\u001b[0;34m(\u001b[0m\u001b[0my_pred_xgb_test\u001b[0m\u001b[0;34m)\u001b[0m \u001b[0;34m+\u001b[0m \u001b[0mnp\u001b[0m\u001b[0;34m.\u001b[0m\u001b[0mexpm1\u001b[0m\u001b[0;34m(\u001b[0m\u001b[0my_pred_lgbm_test\u001b[0m\u001b[0;34m)\u001b[0m\u001b[0;34m)\u001b[0m\u001b[0;34m/\u001b[0m \u001b[0;36m4\u001b[0m\u001b[0;34m\u001b[0m\u001b[0;34m\u001b[0m\u001b[0m\n\u001b[1;32m      3\u001b[0m \u001b[0msubmission\u001b[0m\u001b[0;34m.\u001b[0m\u001b[0mto_csv\u001b[0m\u001b[0;34m(\u001b[0m\u001b[0;34m'submission.csv'\u001b[0m\u001b[0;34m,\u001b[0m \u001b[0mindex\u001b[0m \u001b[0;34m=\u001b[0m \u001b[0;32mFalse\u001b[0m\u001b[0;34m)\u001b[0m\u001b[0;34m\u001b[0m\u001b[0;34m\u001b[0m\u001b[0m\n",
      "\u001b[0;32m/opt/conda/lib/python3.7/site-packages/pandas/io/parsers.py\u001b[0m in \u001b[0;36mread_csv\u001b[0;34m(filepath_or_buffer, sep, delimiter, header, names, index_col, usecols, squeeze, prefix, mangle_dupe_cols, dtype, engine, converters, true_values, false_values, skipinitialspace, skiprows, skipfooter, nrows, na_values, keep_default_na, na_filter, verbose, skip_blank_lines, parse_dates, infer_datetime_format, keep_date_col, date_parser, dayfirst, cache_dates, iterator, chunksize, compression, thousands, decimal, lineterminator, quotechar, quoting, doublequote, escapechar, comment, encoding, dialect, error_bad_lines, warn_bad_lines, delim_whitespace, low_memory, memory_map, float_precision)\u001b[0m\n\u001b[1;32m    684\u001b[0m     )\n\u001b[1;32m    685\u001b[0m \u001b[0;34m\u001b[0m\u001b[0m\n\u001b[0;32m--> 686\u001b[0;31m     \u001b[0;32mreturn\u001b[0m \u001b[0m_read\u001b[0m\u001b[0;34m(\u001b[0m\u001b[0mfilepath_or_buffer\u001b[0m\u001b[0;34m,\u001b[0m \u001b[0mkwds\u001b[0m\u001b[0;34m)\u001b[0m\u001b[0;34m\u001b[0m\u001b[0;34m\u001b[0m\u001b[0m\n\u001b[0m\u001b[1;32m    687\u001b[0m \u001b[0;34m\u001b[0m\u001b[0m\n\u001b[1;32m    688\u001b[0m \u001b[0;34m\u001b[0m\u001b[0m\n",
      "\u001b[0;32m/opt/conda/lib/python3.7/site-packages/pandas/io/parsers.py\u001b[0m in \u001b[0;36m_read\u001b[0;34m(filepath_or_buffer, kwds)\u001b[0m\n\u001b[1;32m    450\u001b[0m \u001b[0;34m\u001b[0m\u001b[0m\n\u001b[1;32m    451\u001b[0m     \u001b[0;31m# Create the parser.\u001b[0m\u001b[0;34m\u001b[0m\u001b[0;34m\u001b[0m\u001b[0;34m\u001b[0m\u001b[0m\n\u001b[0;32m--> 452\u001b[0;31m     \u001b[0mparser\u001b[0m \u001b[0;34m=\u001b[0m \u001b[0mTextFileReader\u001b[0m\u001b[0;34m(\u001b[0m\u001b[0mfp_or_buf\u001b[0m\u001b[0;34m,\u001b[0m \u001b[0;34m**\u001b[0m\u001b[0mkwds\u001b[0m\u001b[0;34m)\u001b[0m\u001b[0;34m\u001b[0m\u001b[0;34m\u001b[0m\u001b[0m\n\u001b[0m\u001b[1;32m    453\u001b[0m \u001b[0;34m\u001b[0m\u001b[0m\n\u001b[1;32m    454\u001b[0m     \u001b[0;32mif\u001b[0m \u001b[0mchunksize\u001b[0m \u001b[0;32mor\u001b[0m \u001b[0miterator\u001b[0m\u001b[0;34m:\u001b[0m\u001b[0;34m\u001b[0m\u001b[0;34m\u001b[0m\u001b[0m\n",
      "\u001b[0;32m/opt/conda/lib/python3.7/site-packages/pandas/io/parsers.py\u001b[0m in \u001b[0;36m__init__\u001b[0;34m(self, f, engine, **kwds)\u001b[0m\n\u001b[1;32m    934\u001b[0m             \u001b[0mself\u001b[0m\u001b[0;34m.\u001b[0m\u001b[0moptions\u001b[0m\u001b[0;34m[\u001b[0m\u001b[0;34m\"has_index_names\"\u001b[0m\u001b[0;34m]\u001b[0m \u001b[0;34m=\u001b[0m \u001b[0mkwds\u001b[0m\u001b[0;34m[\u001b[0m\u001b[0;34m\"has_index_names\"\u001b[0m\u001b[0;34m]\u001b[0m\u001b[0;34m\u001b[0m\u001b[0;34m\u001b[0m\u001b[0m\n\u001b[1;32m    935\u001b[0m \u001b[0;34m\u001b[0m\u001b[0m\n\u001b[0;32m--> 936\u001b[0;31m         \u001b[0mself\u001b[0m\u001b[0;34m.\u001b[0m\u001b[0m_make_engine\u001b[0m\u001b[0;34m(\u001b[0m\u001b[0mself\u001b[0m\u001b[0;34m.\u001b[0m\u001b[0mengine\u001b[0m\u001b[0;34m)\u001b[0m\u001b[0;34m\u001b[0m\u001b[0;34m\u001b[0m\u001b[0m\n\u001b[0m\u001b[1;32m    937\u001b[0m \u001b[0;34m\u001b[0m\u001b[0m\n\u001b[1;32m    938\u001b[0m     \u001b[0;32mdef\u001b[0m \u001b[0mclose\u001b[0m\u001b[0;34m(\u001b[0m\u001b[0mself\u001b[0m\u001b[0;34m)\u001b[0m\u001b[0;34m:\u001b[0m\u001b[0;34m\u001b[0m\u001b[0;34m\u001b[0m\u001b[0m\n",
      "\u001b[0;32m/opt/conda/lib/python3.7/site-packages/pandas/io/parsers.py\u001b[0m in \u001b[0;36m_make_engine\u001b[0;34m(self, engine)\u001b[0m\n\u001b[1;32m   1166\u001b[0m     \u001b[0;32mdef\u001b[0m \u001b[0m_make_engine\u001b[0m\u001b[0;34m(\u001b[0m\u001b[0mself\u001b[0m\u001b[0;34m,\u001b[0m \u001b[0mengine\u001b[0m\u001b[0;34m=\u001b[0m\u001b[0;34m\"c\"\u001b[0m\u001b[0;34m)\u001b[0m\u001b[0;34m:\u001b[0m\u001b[0;34m\u001b[0m\u001b[0;34m\u001b[0m\u001b[0m\n\u001b[1;32m   1167\u001b[0m         \u001b[0;32mif\u001b[0m \u001b[0mengine\u001b[0m \u001b[0;34m==\u001b[0m \u001b[0;34m\"c\"\u001b[0m\u001b[0;34m:\u001b[0m\u001b[0;34m\u001b[0m\u001b[0;34m\u001b[0m\u001b[0m\n\u001b[0;32m-> 1168\u001b[0;31m             \u001b[0mself\u001b[0m\u001b[0;34m.\u001b[0m\u001b[0m_engine\u001b[0m \u001b[0;34m=\u001b[0m \u001b[0mCParserWrapper\u001b[0m\u001b[0;34m(\u001b[0m\u001b[0mself\u001b[0m\u001b[0;34m.\u001b[0m\u001b[0mf\u001b[0m\u001b[0;34m,\u001b[0m \u001b[0;34m**\u001b[0m\u001b[0mself\u001b[0m\u001b[0;34m.\u001b[0m\u001b[0moptions\u001b[0m\u001b[0;34m)\u001b[0m\u001b[0;34m\u001b[0m\u001b[0;34m\u001b[0m\u001b[0m\n\u001b[0m\u001b[1;32m   1169\u001b[0m         \u001b[0;32melse\u001b[0m\u001b[0;34m:\u001b[0m\u001b[0;34m\u001b[0m\u001b[0;34m\u001b[0m\u001b[0m\n\u001b[1;32m   1170\u001b[0m             \u001b[0;32mif\u001b[0m \u001b[0mengine\u001b[0m \u001b[0;34m==\u001b[0m \u001b[0;34m\"python\"\u001b[0m\u001b[0;34m:\u001b[0m\u001b[0;34m\u001b[0m\u001b[0;34m\u001b[0m\u001b[0m\n",
      "\u001b[0;32m/opt/conda/lib/python3.7/site-packages/pandas/io/parsers.py\u001b[0m in \u001b[0;36m__init__\u001b[0;34m(self, src, **kwds)\u001b[0m\n\u001b[1;32m   1996\u001b[0m         \u001b[0mkwds\u001b[0m\u001b[0;34m[\u001b[0m\u001b[0;34m\"usecols\"\u001b[0m\u001b[0;34m]\u001b[0m \u001b[0;34m=\u001b[0m \u001b[0mself\u001b[0m\u001b[0;34m.\u001b[0m\u001b[0musecols\u001b[0m\u001b[0;34m\u001b[0m\u001b[0;34m\u001b[0m\u001b[0m\n\u001b[1;32m   1997\u001b[0m \u001b[0;34m\u001b[0m\u001b[0m\n\u001b[0;32m-> 1998\u001b[0;31m         \u001b[0mself\u001b[0m\u001b[0;34m.\u001b[0m\u001b[0m_reader\u001b[0m \u001b[0;34m=\u001b[0m \u001b[0mparsers\u001b[0m\u001b[0;34m.\u001b[0m\u001b[0mTextReader\u001b[0m\u001b[0;34m(\u001b[0m\u001b[0msrc\u001b[0m\u001b[0;34m,\u001b[0m \u001b[0;34m**\u001b[0m\u001b[0mkwds\u001b[0m\u001b[0;34m)\u001b[0m\u001b[0;34m\u001b[0m\u001b[0;34m\u001b[0m\u001b[0m\n\u001b[0m\u001b[1;32m   1999\u001b[0m         \u001b[0mself\u001b[0m\u001b[0;34m.\u001b[0m\u001b[0munnamed_cols\u001b[0m \u001b[0;34m=\u001b[0m \u001b[0mself\u001b[0m\u001b[0;34m.\u001b[0m\u001b[0m_reader\u001b[0m\u001b[0;34m.\u001b[0m\u001b[0munnamed_cols\u001b[0m\u001b[0;34m\u001b[0m\u001b[0;34m\u001b[0m\u001b[0m\n\u001b[1;32m   2000\u001b[0m \u001b[0;34m\u001b[0m\u001b[0m\n",
      "\u001b[0;32mpandas/_libs/parsers.pyx\u001b[0m in \u001b[0;36mpandas._libs.parsers.TextReader.__cinit__\u001b[0;34m()\u001b[0m\n",
      "\u001b[0;32mpandas/_libs/parsers.pyx\u001b[0m in \u001b[0;36mpandas._libs.parsers.TextReader._setup_parser_source\u001b[0;34m()\u001b[0m\n",
      "\u001b[0;31mFileNotFoundError\u001b[0m: [Errno 2] No such file or directory: '../input/sample_submission.csv'"
     ]
    }
   ],
   "source": [
    "submission = pd.read_csv(\"../input/sample_submission.csv\")\n",
    "submission.iloc[:,1] = (np.expm1(y_pred_gb_test) + np.expm1(y_pred_rf_test) + np.expm1(y_pred_xgb_test) + np.expm1(y_pred_lgbm_test))/ 4\n",
    "submission.to_csv('submission.csv', index = False)"
   ]
  }
 ],
 "metadata": {
  "kernelspec": {
   "display_name": "Python 3",
   "language": "python",
   "name": "python3"
  },
  "language_info": {
   "codemirror_mode": {
    "name": "ipython",
    "version": 3
   },
   "file_extension": ".py",
   "mimetype": "text/x-python",
   "name": "python",
   "nbconvert_exporter": "python",
   "pygments_lexer": "ipython3",
   "version": "3.7.6"
  },
  "papermill": {
   "duration": 190.152001,
   "end_time": "2020-09-13T13:41:49.699034",
   "environment_variables": {},
   "exception": null,
   "input_path": "__notebook__.ipynb",
   "output_path": "__notebook__.ipynb",
   "parameters": {},
   "start_time": "2020-09-13T13:38:39.547033",
   "version": "2.1.0"
  }
 },
 "nbformat": 4,
 "nbformat_minor": 4
}
